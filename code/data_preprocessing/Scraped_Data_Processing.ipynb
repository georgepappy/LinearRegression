{
 "cells": [
  {
   "cell_type": "code",
   "execution_count": 86,
   "id": "e557cd0d",
   "metadata": {},
   "outputs": [],
   "source": [
    "import pandas as pd\n",
    "import numpy as np\n",
    "\n",
    "import requests, bs4\n",
    "from bs4 import BeautifulSoup as bs\n",
    "\n",
    "import time, random\n",
    "\n",
    "import csv\n",
    "\n",
    "import seaborn as sns"
   ]
  },
  {
   "cell_type": "code",
   "execution_count": 87,
   "id": "1756ca87",
   "metadata": {},
   "outputs": [],
   "source": [
    "# Make some room to see stuff (i.e. drop display limits on Pandas rows & cols - be careful w/ big df's!)\n",
    "\n",
    "pd.set_option('display.max_rows', None)\n",
    "pd.set_option('display.max_columns', None)"
   ]
  },
  {
   "cell_type": "markdown",
   "id": "205ff31a",
   "metadata": {},
   "source": [
    "# 1) Combine all csv files generated during web scraping and clean"
   ]
  },
  {
   "cell_type": "code",
   "execution_count": 88,
   "id": "a103607d",
   "metadata": {},
   "outputs": [],
   "source": [
    "files = ['home_details_WestValley_1.csv', 'home_details_WestValley_2.csv', 'home_details_SouthCentralValley.csv',\n",
    "         'home_details_NorthValley.csv', 'home_details_NorthCentralValley.csv', 'home_details_SouthEastBottom.csv',\n",
    "         'home_details_SouthEastBottomUpOne.csv', 'home_details_SouthEastBottomUpTwo.csv',\n",
    "         'home_details_SouthEastBottomUpThree.csv', 'home_details_SouthEastCenterBottom.csv',\n",
    "         'home_details_SouthEastCenterCenter.csv', 'home_details_SouthEastCenterTop.csv',\n",
    "         'home_details_NorthEastCenterBottom.csv', 'home_details_NorthEastCenterCenter.csv',\n",
    "         'home_details_NorthEastUpperBottom.csv', 'home_details_NorthEastUpperCenter.csv',\n",
    "         'home_details_NorthEastUpperTop.csv', 'home_details_EasternEdge.csv']\n",
    "\n",
    "for n, file in enumerate(files):\n",
    "    if n == 0:\n",
    "        df = pd.read_csv('home_details/' + file)\n",
    "    else:\n",
    "        df_temp = pd.read_csv('home_details/' +file)\n",
    "        df = pd.concat([df, df_temp], axis=0)\n",
    "        df.reset_index(drop=True, inplace=True)\n",
    "        \n",
    "df.columns = [col.strip() for col in df.columns]"
   ]
  },
  {
   "cell_type": "code",
   "execution_count": 89,
   "id": "d32a12b0",
   "metadata": {},
   "outputs": [
    {
     "data": {
      "text/plain": [
       "(1313, 11)"
      ]
     },
     "execution_count": 89,
     "metadata": {},
     "output_type": "execute_result"
    }
   ],
   "source": [
    "df = df[~df.isna().any(axis=1)]\n",
    "df = df.drop_duplicates()\n",
    "df.shape"
   ]
  },
  {
   "cell_type": "code",
   "execution_count": 90,
   "id": "f02716ed",
   "metadata": {},
   "outputs": [
    {
     "data": {
      "text/plain": [
       "1    864\n",
       "2    185\n",
       "—    162\n",
       "1     93\n",
       "2      7\n",
       "3      2\n",
       "Name: stories, dtype: int64"
      ]
     },
     "execution_count": 90,
     "metadata": {},
     "output_type": "execute_result"
    }
   ],
   "source": [
    "df['stories'].value_counts()"
   ]
  },
  {
   "cell_type": "markdown",
   "id": "baef6140",
   "metadata": {},
   "source": [
    "### Drop the rows with '-' for the 'stories' column"
   ]
  },
  {
   "cell_type": "code",
   "execution_count": 91,
   "id": "93c18b73",
   "metadata": {},
   "outputs": [
    {
     "data": {
      "text/html": [
       "<div>\n",
       "<style scoped>\n",
       "    .dataframe tbody tr th:only-of-type {\n",
       "        vertical-align: middle;\n",
       "    }\n",
       "\n",
       "    .dataframe tbody tr th {\n",
       "        vertical-align: top;\n",
       "    }\n",
       "\n",
       "    .dataframe thead th {\n",
       "        text-align: right;\n",
       "    }\n",
       "</style>\n",
       "<table border=\"1\" class=\"dataframe\">\n",
       "  <thead>\n",
       "    <tr style=\"text-align: right;\">\n",
       "      <th></th>\n",
       "      <th>sold_price</th>\n",
       "      <th>beds</th>\n",
       "      <th>baths</th>\n",
       "      <th>hm_sqft</th>\n",
       "      <th>lot_size</th>\n",
       "      <th>yr_built</th>\n",
       "      <th>zipcode</th>\n",
       "      <th>pool</th>\n",
       "      <th>garage</th>\n",
       "      <th>stories</th>\n",
       "      <th>schools</th>\n",
       "    </tr>\n",
       "  </thead>\n",
       "  <tbody>\n",
       "    <tr>\n",
       "      <th>0</th>\n",
       "      <td>970000</td>\n",
       "      <td>4</td>\n",
       "      <td>3.0</td>\n",
       "      <td>1933</td>\n",
       "      <td>6,999 Sq. Ft.</td>\n",
       "      <td>1960</td>\n",
       "      <td>91364</td>\n",
       "      <td>True</td>\n",
       "      <td>True</td>\n",
       "      <td>1</td>\n",
       "      <td>6.4</td>\n",
       "    </tr>\n",
       "    <tr>\n",
       "      <th>1</th>\n",
       "      <td>900000</td>\n",
       "      <td>3</td>\n",
       "      <td>2.0</td>\n",
       "      <td>1519</td>\n",
       "      <td>0.27 Acres</td>\n",
       "      <td>1974</td>\n",
       "      <td>91304</td>\n",
       "      <td>True</td>\n",
       "      <td>True</td>\n",
       "      <td>1</td>\n",
       "      <td>6.4</td>\n",
       "    </tr>\n",
       "    <tr>\n",
       "      <th>2</th>\n",
       "      <td>887000</td>\n",
       "      <td>4</td>\n",
       "      <td>3.0</td>\n",
       "      <td>1845</td>\n",
       "      <td>2,555 Sq. Ft.</td>\n",
       "      <td>2020</td>\n",
       "      <td>91307</td>\n",
       "      <td>True</td>\n",
       "      <td>True</td>\n",
       "      <td>—</td>\n",
       "      <td>6.4</td>\n",
       "    </tr>\n",
       "    <tr>\n",
       "      <th>4</th>\n",
       "      <td>830000</td>\n",
       "      <td>3</td>\n",
       "      <td>2.0</td>\n",
       "      <td>1595</td>\n",
       "      <td>10,560 Sq. Ft.</td>\n",
       "      <td>1960</td>\n",
       "      <td>91303</td>\n",
       "      <td>True</td>\n",
       "      <td>True</td>\n",
       "      <td>1</td>\n",
       "      <td>4.8</td>\n",
       "    </tr>\n",
       "    <tr>\n",
       "      <th>5</th>\n",
       "      <td>820000</td>\n",
       "      <td>3</td>\n",
       "      <td>2.5</td>\n",
       "      <td>1364</td>\n",
       "      <td>7,253 Sq. Ft.</td>\n",
       "      <td>1959</td>\n",
       "      <td>91307</td>\n",
       "      <td>False</td>\n",
       "      <td>False</td>\n",
       "      <td>1</td>\n",
       "      <td>7.0</td>\n",
       "    </tr>\n",
       "  </tbody>\n",
       "</table>\n",
       "</div>"
      ],
      "text/plain": [
       "  sold_price beds baths hm_sqft        lot_size yr_built zipcode   pool  \\\n",
       "0     970000    4   3.0    1933   6,999 Sq. Ft.     1960   91364   True   \n",
       "1     900000    3   2.0    1519      0.27 Acres     1974   91304   True   \n",
       "2     887000    4   3.0    1845   2,555 Sq. Ft.     2020   91307   True   \n",
       "4     830000    3   2.0    1595  10,560 Sq. Ft.     1960   91303   True   \n",
       "5     820000    3   2.5    1364   7,253 Sq. Ft.     1959   91307  False   \n",
       "\n",
       "   garage stories  schools  \n",
       "0    True       1      6.4  \n",
       "1    True       1      6.4  \n",
       "2    True       —      6.4  \n",
       "4    True       1      4.8  \n",
       "5   False       1      7.0  "
      ]
     },
     "execution_count": 91,
     "metadata": {},
     "output_type": "execute_result"
    }
   ],
   "source": [
    "df.head()"
   ]
  },
  {
   "cell_type": "code",
   "execution_count": 92,
   "id": "12efcef0",
   "metadata": {},
   "outputs": [
    {
     "data": {
      "text/plain": [
       "'—'"
      ]
     },
     "execution_count": 92,
     "metadata": {},
     "output_type": "execute_result"
    }
   ],
   "source": [
    "null_val = df['stories'][2]\n",
    "null_val"
   ]
  },
  {
   "cell_type": "code",
   "execution_count": 93,
   "id": "b1761e39",
   "metadata": {},
   "outputs": [
    {
     "data": {
      "text/plain": [
       "(1151, 11)"
      ]
     },
     "execution_count": 93,
     "metadata": {},
     "output_type": "execute_result"
    }
   ],
   "source": [
    "df = df[df['stories'] != null_val]\n",
    "df.reset_index(drop=True, inplace=True)\n",
    "df.shape"
   ]
  },
  {
   "cell_type": "code",
   "execution_count": 94,
   "id": "23e843cd",
   "metadata": {},
   "outputs": [
    {
     "data": {
      "text/plain": [
       "1    864\n",
       "2    185\n",
       "1     93\n",
       "2      7\n",
       "3      2\n",
       "Name: stories, dtype: int64"
      ]
     },
     "execution_count": 94,
     "metadata": {},
     "output_type": "execute_result"
    }
   ],
   "source": [
    "df['stories'].value_counts()"
   ]
  },
  {
   "cell_type": "markdown",
   "id": "261d875a",
   "metadata": {},
   "source": [
    "### Corrupted row (parsing error) - pretty obvious how to fix it"
   ]
  },
  {
   "cell_type": "code",
   "execution_count": 95,
   "id": "a2e39594",
   "metadata": {},
   "outputs": [
    {
     "data": {
      "text/plain": [
       "sold_price    AveNorthridge\n",
       "beds                  91325\n",
       "baths              995000.0\n",
       "hm_sqft       1Bed1Bath1124\n",
       "lot_size         0.56 Acres\n",
       "yr_built               1954\n",
       "zipcode                 Oak\n",
       "pool                  False\n",
       "garage                False\n",
       "stories                   1\n",
       "schools                 5.2\n",
       "Name: 912, dtype: object"
      ]
     },
     "execution_count": 95,
     "metadata": {},
     "output_type": "execute_result"
    }
   ],
   "source": [
    "df.loc[912]"
   ]
  },
  {
   "cell_type": "code",
   "execution_count": 96,
   "id": "46fcb843",
   "metadata": {},
   "outputs": [],
   "source": [
    "df.loc[912, 'sold_price'] = '995000.0'\n",
    "df.loc[912, 'beds'] = '1'\n",
    "df.loc[912, 'baths'] = '1'\n",
    "df.loc[912, 'hm_sqft'] = '1124'\n",
    "df.loc[912, 'zipcode'] = '91325'"
   ]
  },
  {
   "cell_type": "code",
   "execution_count": 97,
   "id": "58c42087",
   "metadata": {},
   "outputs": [
    {
     "data": {
      "text/plain": [
       "sold_price      995000.0\n",
       "beds                   1\n",
       "baths                  1\n",
       "hm_sqft             1124\n",
       "lot_size      0.56 Acres\n",
       "yr_built            1954\n",
       "zipcode            91325\n",
       "pool               False\n",
       "garage             False\n",
       "stories                1\n",
       "schools              5.2\n",
       "Name: 912, dtype: object"
      ]
     },
     "execution_count": 97,
     "metadata": {},
     "output_type": "execute_result"
    }
   ],
   "source": [
    "df.loc[912]"
   ]
  },
  {
   "cell_type": "markdown",
   "id": "4953ca5d",
   "metadata": {},
   "source": [
    "### More corrupted rows (parsing errors) - pretty obvious how to fix them"
   ]
  },
  {
   "cell_type": "code",
   "execution_count": 98,
   "id": "d3430d80",
   "metadata": {
    "scrolled": false
   },
   "outputs": [
    {
     "name": "stdout",
     "output_type": "stream",
     "text": [
      "Pandas(Index=159, sold_price=91364, beds=902000, baths=3.0, hm_sqft='1Bath1014', lot_size='6,249 Sq. Ft.', yr_built=1949, zipcode='Hills', pool=False, garage=False, stories='1', schools=6.4)\n",
      "Pandas(Index=246, sold_price=91364, beds=900000, baths=2.0, hm_sqft='1Bath1219', lot_size='5,287 Sq. Ft.', yr_built=1953, zipcode='Hills', pool=False, garage=False, stories='1', schools=6.4)\n",
      "Pandas(Index=258, sold_price=91367, beds=740000, baths=3.0, hm_sqft='1Bath1069', lot_size='7,335 Sq. Ft.', yr_built=1952, zipcode='Hills', pool=False, garage=False, stories='1', schools=6.8)\n",
      "Pandas(Index=431, sold_price='91364', beds='790000', baths='3', hm_sqft='1Bath1101', lot_size='9,329 Sq. Ft.', yr_built='1954', zipcode='Hills', pool=False, garage=False, stories='1', schools=6.0)\n",
      "Pandas(Index=473, sold_price='Hills', beds='91364', baths='753000', hm_sqft='1Bed1Bath564', lot_size='5,112 Sq. Ft.', yr_built='1952', zipcode='DrWoodland', pool=False, garage=False, stories='1', schools=6.0)\n",
      "Pandas(Index=496, sold_price='91364', beds='902000', baths='3', hm_sqft='1Bath1014', lot_size='6,249 Sq. Ft.', yr_built='1949', zipcode='Hills', pool=False, garage=False, stories='1', schools=6.4)\n",
      "Pandas(Index=562, sold_price='91364', beds='900000', baths='2', hm_sqft='1Bath1219', lot_size='5,287 Sq. Ft.', yr_built='1953', zipcode='Hills', pool=False, garage=False, stories='1', schools=6.4)\n",
      "Pandas(Index=682, sold_price=91344.0, beds=815000, baths='3', hm_sqft='1Bath1147', lot_size='7,148 Sq. Ft.', yr_built=1947, zipcode='Hills', pool=False, garage=False, stories='1', schools=5.0)\n"
     ]
    }
   ],
   "source": [
    "for row in df.itertuples():\n",
    "    if 'Hills' in row:\n",
    "        print(row)"
   ]
  },
  {
   "cell_type": "code",
   "execution_count": 99,
   "id": "eea1afb9",
   "metadata": {},
   "outputs": [],
   "source": [
    "idx = 159\n",
    "df.loc[idx, 'sold_price'] = '902000'\n",
    "df.loc[idx, 'beds'] = '3'\n",
    "df.loc[idx, 'baths'] = '1'\n",
    "df.loc[idx, 'hm_sqft'] = '1014'\n",
    "df.loc[idx, 'zipcode'] = '91364'"
   ]
  },
  {
   "cell_type": "code",
   "execution_count": 100,
   "id": "845f841b",
   "metadata": {},
   "outputs": [
    {
     "data": {
      "text/plain": [
       "sold_price           902000\n",
       "beds                      3\n",
       "baths                     1\n",
       "hm_sqft                1014\n",
       "lot_size      6,249 Sq. Ft.\n",
       "yr_built               1949\n",
       "zipcode               91364\n",
       "pool                  False\n",
       "garage                False\n",
       "stories                   1\n",
       "schools                 6.4\n",
       "Name: 159, dtype: object"
      ]
     },
     "execution_count": 100,
     "metadata": {},
     "output_type": "execute_result"
    }
   ],
   "source": [
    "df.loc[idx]"
   ]
  },
  {
   "cell_type": "code",
   "execution_count": 101,
   "id": "10b7eb14",
   "metadata": {},
   "outputs": [],
   "source": [
    "idx = 246\n",
    "df.loc[idx, 'sold_price'] = '900000'\n",
    "df.loc[idx, 'beds'] = '2'\n",
    "df.loc[idx, 'baths'] = '1'\n",
    "df.loc[idx, 'hm_sqft'] = '1219'\n",
    "df.loc[idx, 'zipcode'] = '91364'"
   ]
  },
  {
   "cell_type": "code",
   "execution_count": 102,
   "id": "9c2798fa",
   "metadata": {},
   "outputs": [
    {
     "data": {
      "text/plain": [
       "sold_price           900000\n",
       "beds                      2\n",
       "baths                     1\n",
       "hm_sqft                1219\n",
       "lot_size      5,287 Sq. Ft.\n",
       "yr_built               1953\n",
       "zipcode               91364\n",
       "pool                  False\n",
       "garage                False\n",
       "stories                   1\n",
       "schools                 6.4\n",
       "Name: 246, dtype: object"
      ]
     },
     "execution_count": 102,
     "metadata": {},
     "output_type": "execute_result"
    }
   ],
   "source": [
    "df.loc[idx]"
   ]
  },
  {
   "cell_type": "code",
   "execution_count": 103,
   "id": "c7120928",
   "metadata": {},
   "outputs": [],
   "source": [
    "idx = 258\n",
    "df.loc[idx, 'sold_price'] = '740000'\n",
    "df.loc[idx, 'beds'] = '3'\n",
    "df.loc[idx, 'baths'] = '1'\n",
    "df.loc[idx, 'hm_sqft'] = '1069'\n",
    "df.loc[idx, 'zipcode'] = '91367'"
   ]
  },
  {
   "cell_type": "code",
   "execution_count": 104,
   "id": "ba105a78",
   "metadata": {},
   "outputs": [
    {
     "data": {
      "text/plain": [
       "sold_price           740000\n",
       "beds                      3\n",
       "baths                     1\n",
       "hm_sqft                1069\n",
       "lot_size      7,335 Sq. Ft.\n",
       "yr_built               1952\n",
       "zipcode               91367\n",
       "pool                  False\n",
       "garage                False\n",
       "stories                   1\n",
       "schools                 6.8\n",
       "Name: 258, dtype: object"
      ]
     },
     "execution_count": 104,
     "metadata": {},
     "output_type": "execute_result"
    }
   ],
   "source": [
    "df.loc[idx]"
   ]
  },
  {
   "cell_type": "code",
   "execution_count": 105,
   "id": "33dc665f",
   "metadata": {},
   "outputs": [],
   "source": [
    "idx = 431\n",
    "df.loc[idx, 'sold_price'] = '790000'\n",
    "df.loc[idx, 'beds'] = '3'\n",
    "df.loc[idx, 'baths'] = '1'\n",
    "df.loc[idx, 'hm_sqft'] = '1101'\n",
    "df.loc[idx, 'zipcode'] = '91364'"
   ]
  },
  {
   "cell_type": "code",
   "execution_count": 106,
   "id": "7e4d7d51",
   "metadata": {},
   "outputs": [
    {
     "data": {
      "text/plain": [
       "sold_price           790000\n",
       "beds                      3\n",
       "baths                     1\n",
       "hm_sqft                1101\n",
       "lot_size      9,329 Sq. Ft.\n",
       "yr_built               1954\n",
       "zipcode               91364\n",
       "pool                  False\n",
       "garage                False\n",
       "stories                   1\n",
       "schools                 6.0\n",
       "Name: 431, dtype: object"
      ]
     },
     "execution_count": 106,
     "metadata": {},
     "output_type": "execute_result"
    }
   ],
   "source": [
    "df.loc[idx]"
   ]
  },
  {
   "cell_type": "code",
   "execution_count": 107,
   "id": "33a73b7e",
   "metadata": {},
   "outputs": [],
   "source": [
    "idx = 473\n",
    "df.loc[idx, 'sold_price'] = '753000'\n",
    "df.loc[idx, 'beds'] = '1'\n",
    "df.loc[idx, 'baths'] = '1'\n",
    "df.loc[idx, 'hm_sqft'] = '564'\n",
    "df.loc[idx, 'zipcode'] = '91364'"
   ]
  },
  {
   "cell_type": "code",
   "execution_count": 108,
   "id": "df416eff",
   "metadata": {},
   "outputs": [
    {
     "data": {
      "text/plain": [
       "sold_price           753000\n",
       "beds                      1\n",
       "baths                     1\n",
       "hm_sqft                 564\n",
       "lot_size      5,112 Sq. Ft.\n",
       "yr_built               1952\n",
       "zipcode               91364\n",
       "pool                  False\n",
       "garage                False\n",
       "stories                   1\n",
       "schools                 6.0\n",
       "Name: 473, dtype: object"
      ]
     },
     "execution_count": 108,
     "metadata": {},
     "output_type": "execute_result"
    }
   ],
   "source": [
    "df.loc[idx]"
   ]
  },
  {
   "cell_type": "code",
   "execution_count": 109,
   "id": "b01a7aab",
   "metadata": {},
   "outputs": [],
   "source": [
    "idx = 496\n",
    "df.loc[idx, 'sold_price'] = '902000'\n",
    "df.loc[idx, 'beds'] = '3'\n",
    "df.loc[idx, 'baths'] = '1'\n",
    "df.loc[idx, 'hm_sqft'] = '1014'\n",
    "df.loc[idx, 'zipcode'] = '91364'"
   ]
  },
  {
   "cell_type": "code",
   "execution_count": 110,
   "id": "30e214ef",
   "metadata": {},
   "outputs": [
    {
     "data": {
      "text/plain": [
       "sold_price           902000\n",
       "beds                      3\n",
       "baths                     1\n",
       "hm_sqft                1014\n",
       "lot_size      6,249 Sq. Ft.\n",
       "yr_built               1949\n",
       "zipcode               91364\n",
       "pool                  False\n",
       "garage                False\n",
       "stories                   1\n",
       "schools                 6.4\n",
       "Name: 496, dtype: object"
      ]
     },
     "execution_count": 110,
     "metadata": {},
     "output_type": "execute_result"
    }
   ],
   "source": [
    "# This is a duplicate of the first of these we dealt with; the parsing error\n",
    "#   must have fooled .drop_duplicates(); will have to drop it\n",
    "\n",
    "df.loc[idx]"
   ]
  },
  {
   "cell_type": "code",
   "execution_count": 111,
   "id": "4bbdc42a",
   "metadata": {},
   "outputs": [
    {
     "name": "stdout",
     "output_type": "stream",
     "text": [
      "(1151, 11)\n",
      "(1150, 11)\n"
     ]
    }
   ],
   "source": [
    "print(df.shape)\n",
    "df = df[df.index != idx]\n",
    "print(df.shape)"
   ]
  },
  {
   "cell_type": "code",
   "execution_count": 112,
   "id": "8537e503",
   "metadata": {},
   "outputs": [],
   "source": [
    "idx = 562\n",
    "df.loc[idx, 'sold_price'] = '900000'\n",
    "df.loc[idx, 'beds'] = '2'\n",
    "df.loc[idx, 'baths'] = '1'\n",
    "df.loc[idx, 'hm_sqft'] = '1219'\n",
    "df.loc[idx, 'zipcode'] = '91364'"
   ]
  },
  {
   "cell_type": "code",
   "execution_count": 113,
   "id": "16e9db0a",
   "metadata": {},
   "outputs": [
    {
     "data": {
      "text/plain": [
       "sold_price           900000\n",
       "beds                      2\n",
       "baths                     1\n",
       "hm_sqft                1219\n",
       "lot_size      5,287 Sq. Ft.\n",
       "yr_built               1953\n",
       "zipcode               91364\n",
       "pool                  False\n",
       "garage                False\n",
       "stories                   1\n",
       "schools                 6.4\n",
       "Name: 562, dtype: object"
      ]
     },
     "execution_count": 113,
     "metadata": {},
     "output_type": "execute_result"
    }
   ],
   "source": [
    "# This looks like another duplicate! Will drop it, too\n",
    "\n",
    "df.loc[idx]"
   ]
  },
  {
   "cell_type": "code",
   "execution_count": 114,
   "id": "f81cbbc8",
   "metadata": {},
   "outputs": [
    {
     "name": "stdout",
     "output_type": "stream",
     "text": [
      "(1150, 11)\n",
      "(1149, 11)\n"
     ]
    }
   ],
   "source": [
    "print(df.shape)\n",
    "df = df[df.index != idx]\n",
    "print(df.shape)"
   ]
  },
  {
   "cell_type": "code",
   "execution_count": 115,
   "id": "237153b9",
   "metadata": {},
   "outputs": [],
   "source": [
    "idx = 682\n",
    "df.loc[idx, 'sold_price'] = '815000'\n",
    "df.loc[idx, 'beds'] = '3'\n",
    "df.loc[idx, 'baths'] = '1'\n",
    "df.loc[idx, 'hm_sqft'] = '1147'\n",
    "df.loc[idx, 'zipcode'] = '91344'"
   ]
  },
  {
   "cell_type": "code",
   "execution_count": 116,
   "id": "885f978d",
   "metadata": {},
   "outputs": [
    {
     "data": {
      "text/plain": [
       "sold_price           815000\n",
       "beds                      3\n",
       "baths                     1\n",
       "hm_sqft                1147\n",
       "lot_size      7,148 Sq. Ft.\n",
       "yr_built               1947\n",
       "zipcode               91344\n",
       "pool                  False\n",
       "garage                False\n",
       "stories                   1\n",
       "schools                 5.0\n",
       "Name: 682, dtype: object"
      ]
     },
     "execution_count": 116,
     "metadata": {},
     "output_type": "execute_result"
    }
   ],
   "source": [
    "df.loc[idx]"
   ]
  },
  {
   "cell_type": "code",
   "execution_count": 117,
   "id": "686032cc",
   "metadata": {},
   "outputs": [],
   "source": [
    "# Re-index\n",
    "\n",
    "df.reset_index(drop=True, inplace=True)"
   ]
  },
  {
   "cell_type": "markdown",
   "id": "365faaea",
   "metadata": {},
   "source": [
    "### Another anomaly: Lot Sale (no house) - must drop this row"
   ]
  },
  {
   "cell_type": "code",
   "execution_count": 118,
   "id": "ab98032a",
   "metadata": {
    "scrolled": true
   },
   "outputs": [
    {
     "data": {
      "text/html": [
       "<div>\n",
       "<style scoped>\n",
       "    .dataframe tbody tr th:only-of-type {\n",
       "        vertical-align: middle;\n",
       "    }\n",
       "\n",
       "    .dataframe tbody tr th {\n",
       "        vertical-align: top;\n",
       "    }\n",
       "\n",
       "    .dataframe thead th {\n",
       "        text-align: right;\n",
       "    }\n",
       "</style>\n",
       "<table border=\"1\" class=\"dataframe\">\n",
       "  <thead>\n",
       "    <tr style=\"text-align: right;\">\n",
       "      <th></th>\n",
       "      <th>sold_price</th>\n",
       "      <th>beds</th>\n",
       "      <th>baths</th>\n",
       "      <th>hm_sqft</th>\n",
       "      <th>lot_size</th>\n",
       "      <th>yr_built</th>\n",
       "      <th>zipcode</th>\n",
       "      <th>pool</th>\n",
       "      <th>garage</th>\n",
       "      <th>stories</th>\n",
       "      <th>schools</th>\n",
       "    </tr>\n",
       "  </thead>\n",
       "  <tbody>\n",
       "    <tr>\n",
       "      <th>559</th>\n",
       "      <td>1350000</td>\n",
       "      <td>—</td>\n",
       "      <td>—</td>\n",
       "      <td>—</td>\n",
       "      <td>0.40 Acres</td>\n",
       "      <td>1956</td>\n",
       "      <td>91364</td>\n",
       "      <td>False</td>\n",
       "      <td>False</td>\n",
       "      <td>1</td>\n",
       "      <td>6.0</td>\n",
       "    </tr>\n",
       "  </tbody>\n",
       "</table>\n",
       "</div>"
      ],
      "text/plain": [
       "    sold_price beds baths hm_sqft    lot_size yr_built zipcode   pool  garage  \\\n",
       "559    1350000    —     —       —  0.40 Acres     1956   91364  False   False   \n",
       "\n",
       "    stories  schools  \n",
       "559       1      6.0  "
      ]
     },
     "execution_count": 118,
     "metadata": {},
     "output_type": "execute_result"
    }
   ],
   "source": [
    "df[df['beds'] == null_val]"
   ]
  },
  {
   "cell_type": "code",
   "execution_count": 119,
   "id": "fe25ed1f",
   "metadata": {},
   "outputs": [
    {
     "name": "stdout",
     "output_type": "stream",
     "text": [
      "(1149, 11)\n",
      "(1148, 11)\n"
     ]
    }
   ],
   "source": [
    "print(df.shape)\n",
    "df = df[df.index != 559]\n",
    "print(df.shape)"
   ]
  },
  {
   "cell_type": "markdown",
   "id": "86448808",
   "metadata": {},
   "source": [
    "### More anomalies (another easily fixable parsing error)"
   ]
  },
  {
   "cell_type": "code",
   "execution_count": 120,
   "id": "c8fedfec",
   "metadata": {
    "scrolled": true
   },
   "outputs": [
    {
     "data": {
      "text/html": [
       "<div>\n",
       "<style scoped>\n",
       "    .dataframe tbody tr th:only-of-type {\n",
       "        vertical-align: middle;\n",
       "    }\n",
       "\n",
       "    .dataframe tbody tr th {\n",
       "        vertical-align: top;\n",
       "    }\n",
       "\n",
       "    .dataframe thead th {\n",
       "        text-align: right;\n",
       "    }\n",
       "</style>\n",
       "<table border=\"1\" class=\"dataframe\">\n",
       "  <thead>\n",
       "    <tr style=\"text-align: right;\">\n",
       "      <th></th>\n",
       "      <th>sold_price</th>\n",
       "      <th>beds</th>\n",
       "      <th>baths</th>\n",
       "      <th>hm_sqft</th>\n",
       "      <th>lot_size</th>\n",
       "      <th>yr_built</th>\n",
       "      <th>zipcode</th>\n",
       "      <th>pool</th>\n",
       "      <th>garage</th>\n",
       "      <th>stories</th>\n",
       "      <th>schools</th>\n",
       "    </tr>\n",
       "  </thead>\n",
       "  <tbody>\n",
       "    <tr>\n",
       "      <th>33</th>\n",
       "      <td>91303</td>\n",
       "      <td>615000</td>\n",
       "      <td>3.0</td>\n",
       "      <td>1Bath945</td>\n",
       "      <td>4,961 Sq. Ft.</td>\n",
       "      <td>1951</td>\n",
       "      <td>Park</td>\n",
       "      <td>False</td>\n",
       "      <td>True</td>\n",
       "      <td>1</td>\n",
       "      <td>4.2</td>\n",
       "    </tr>\n",
       "    <tr>\n",
       "      <th>117</th>\n",
       "      <td>91303</td>\n",
       "      <td>701000</td>\n",
       "      <td>3.0</td>\n",
       "      <td>1Bath1268</td>\n",
       "      <td>6,752 Sq. Ft.</td>\n",
       "      <td>1954</td>\n",
       "      <td>Park</td>\n",
       "      <td>True</td>\n",
       "      <td>True</td>\n",
       "      <td>1</td>\n",
       "      <td>4.8</td>\n",
       "    </tr>\n",
       "    <tr>\n",
       "      <th>251</th>\n",
       "      <td>91303</td>\n",
       "      <td>675000</td>\n",
       "      <td>2.0</td>\n",
       "      <td>1Bath1045</td>\n",
       "      <td>6,751 Sq. Ft.</td>\n",
       "      <td>1951</td>\n",
       "      <td>Park</td>\n",
       "      <td>False</td>\n",
       "      <td>False</td>\n",
       "      <td>1</td>\n",
       "      <td>4.8</td>\n",
       "    </tr>\n",
       "    <tr>\n",
       "      <th>293</th>\n",
       "      <td>91335</td>\n",
       "      <td>704000</td>\n",
       "      <td>3</td>\n",
       "      <td>1Bath1148</td>\n",
       "      <td>6,000 Sq. Ft.</td>\n",
       "      <td>1951</td>\n",
       "      <td>StReseda</td>\n",
       "      <td>False</td>\n",
       "      <td>False</td>\n",
       "      <td>1</td>\n",
       "      <td>5.2</td>\n",
       "    </tr>\n",
       "    <tr>\n",
       "      <th>294</th>\n",
       "      <td>91306</td>\n",
       "      <td>640000</td>\n",
       "      <td>3</td>\n",
       "      <td>1Bath1074</td>\n",
       "      <td>6,752 Sq. Ft.</td>\n",
       "      <td>1949</td>\n",
       "      <td>AveWinnetka</td>\n",
       "      <td>False</td>\n",
       "      <td>False</td>\n",
       "      <td>1</td>\n",
       "      <td>5.0</td>\n",
       "    </tr>\n",
       "    <tr>\n",
       "      <th>298</th>\n",
       "      <td>91335</td>\n",
       "      <td>665000</td>\n",
       "      <td>2</td>\n",
       "      <td>1Bath885</td>\n",
       "      <td>6,755 Sq. Ft.</td>\n",
       "      <td>1954</td>\n",
       "      <td>AveReseda</td>\n",
       "      <td>False</td>\n",
       "      <td>False</td>\n",
       "      <td>1</td>\n",
       "      <td>5.0</td>\n",
       "    </tr>\n",
       "    <tr>\n",
       "      <th>323</th>\n",
       "      <td>91335</td>\n",
       "      <td>725000</td>\n",
       "      <td>3</td>\n",
       "      <td>1Bath1073</td>\n",
       "      <td>6,239 Sq. Ft.</td>\n",
       "      <td>1951</td>\n",
       "      <td>AveReseda</td>\n",
       "      <td>False</td>\n",
       "      <td>False</td>\n",
       "      <td>1</td>\n",
       "      <td>4.6</td>\n",
       "    </tr>\n",
       "    <tr>\n",
       "      <th>324</th>\n",
       "      <td>91306</td>\n",
       "      <td>700000</td>\n",
       "      <td>2</td>\n",
       "      <td>1Bath1003</td>\n",
       "      <td>0.40 Acres</td>\n",
       "      <td>1949</td>\n",
       "      <td>StWinnetka</td>\n",
       "      <td>False</td>\n",
       "      <td>False</td>\n",
       "      <td>1</td>\n",
       "      <td>4.8</td>\n",
       "    </tr>\n",
       "    <tr>\n",
       "      <th>342</th>\n",
       "      <td>91303</td>\n",
       "      <td>700000</td>\n",
       "      <td>3</td>\n",
       "      <td>1Bath1000</td>\n",
       "      <td>5,006 Sq. Ft.</td>\n",
       "      <td>1956</td>\n",
       "      <td>Park</td>\n",
       "      <td>False</td>\n",
       "      <td>False</td>\n",
       "      <td>1</td>\n",
       "      <td>4.2</td>\n",
       "    </tr>\n",
       "    <tr>\n",
       "      <th>345</th>\n",
       "      <td>91306</td>\n",
       "      <td>661000</td>\n",
       "      <td>2</td>\n",
       "      <td>1Bath799</td>\n",
       "      <td>7,067 Sq. Ft.</td>\n",
       "      <td>1951</td>\n",
       "      <td>AveWinnetka</td>\n",
       "      <td>False</td>\n",
       "      <td>False</td>\n",
       "      <td>1</td>\n",
       "      <td>5.0</td>\n",
       "    </tr>\n",
       "    <tr>\n",
       "      <th>352</th>\n",
       "      <td>91324</td>\n",
       "      <td>773000</td>\n",
       "      <td>3</td>\n",
       "      <td>1Bath1245</td>\n",
       "      <td>6,050 Sq. Ft.</td>\n",
       "      <td>1952</td>\n",
       "      <td>StNorthridge</td>\n",
       "      <td>False</td>\n",
       "      <td>False</td>\n",
       "      <td>1</td>\n",
       "      <td>5.0</td>\n",
       "    </tr>\n",
       "    <tr>\n",
       "      <th>365</th>\n",
       "      <td>91306</td>\n",
       "      <td>680000</td>\n",
       "      <td>2</td>\n",
       "      <td>1Bath839</td>\n",
       "      <td>7,116 Sq. Ft.</td>\n",
       "      <td>1949</td>\n",
       "      <td>BlvdWinnetka</td>\n",
       "      <td>False</td>\n",
       "      <td>False</td>\n",
       "      <td>1</td>\n",
       "      <td>4.8</td>\n",
       "    </tr>\n",
       "    <tr>\n",
       "      <th>440</th>\n",
       "      <td>91335</td>\n",
       "      <td>750000</td>\n",
       "      <td>3</td>\n",
       "      <td>1Bath1107</td>\n",
       "      <td>6,041 Sq. Ft.</td>\n",
       "      <td>1950</td>\n",
       "      <td>AveReseda</td>\n",
       "      <td>False</td>\n",
       "      <td>False</td>\n",
       "      <td>1</td>\n",
       "      <td>5.2</td>\n",
       "    </tr>\n",
       "    <tr>\n",
       "      <th>464</th>\n",
       "      <td>91316</td>\n",
       "      <td>800000</td>\n",
       "      <td>2</td>\n",
       "      <td>1Bath802</td>\n",
       "      <td>5,564 Sq. Ft.</td>\n",
       "      <td>1949</td>\n",
       "      <td>StEncino</td>\n",
       "      <td>False</td>\n",
       "      <td>False</td>\n",
       "      <td>1</td>\n",
       "      <td>5.4</td>\n",
       "    </tr>\n",
       "    <tr>\n",
       "      <th>509</th>\n",
       "      <td>91356</td>\n",
       "      <td>1226000</td>\n",
       "      <td>3</td>\n",
       "      <td>1Bath1434</td>\n",
       "      <td>9,395 Sq. Ft.</td>\n",
       "      <td>1939</td>\n",
       "      <td>AveTarzana</td>\n",
       "      <td>False</td>\n",
       "      <td>False</td>\n",
       "      <td>1</td>\n",
       "      <td>6.0</td>\n",
       "    </tr>\n",
       "    <tr>\n",
       "      <th>511</th>\n",
       "      <td>91316</td>\n",
       "      <td>860000</td>\n",
       "      <td>3</td>\n",
       "      <td>1Bath1117</td>\n",
       "      <td>6,212 Sq. Ft.</td>\n",
       "      <td>1950</td>\n",
       "      <td>StEncino</td>\n",
       "      <td>False</td>\n",
       "      <td>False</td>\n",
       "      <td>1</td>\n",
       "      <td>5.2</td>\n",
       "    </tr>\n",
       "    <tr>\n",
       "      <th>527</th>\n",
       "      <td>91335</td>\n",
       "      <td>922000</td>\n",
       "      <td>3</td>\n",
       "      <td>1Bath1044</td>\n",
       "      <td>6,000 Sq. Ft.</td>\n",
       "      <td>1950</td>\n",
       "      <td>StTarzana</td>\n",
       "      <td>False</td>\n",
       "      <td>False</td>\n",
       "      <td>1</td>\n",
       "      <td>4.8</td>\n",
       "    </tr>\n",
       "    <tr>\n",
       "      <th>570</th>\n",
       "      <td>91335</td>\n",
       "      <td>720000</td>\n",
       "      <td>3</td>\n",
       "      <td>1Bath1044</td>\n",
       "      <td>6,000 Sq. Ft.</td>\n",
       "      <td>1950</td>\n",
       "      <td>StTarzana</td>\n",
       "      <td>False</td>\n",
       "      <td>False</td>\n",
       "      <td>1</td>\n",
       "      <td>4.8</td>\n",
       "    </tr>\n",
       "    <tr>\n",
       "      <th>702</th>\n",
       "      <td>91335.0</td>\n",
       "      <td>704000</td>\n",
       "      <td>3.0</td>\n",
       "      <td>1Bath1148</td>\n",
       "      <td>6,000 Sq. Ft.</td>\n",
       "      <td>1951</td>\n",
       "      <td>StReseda</td>\n",
       "      <td>False</td>\n",
       "      <td>False</td>\n",
       "      <td>1</td>\n",
       "      <td>5.2</td>\n",
       "    </tr>\n",
       "    <tr>\n",
       "      <th>703</th>\n",
       "      <td>91306.0</td>\n",
       "      <td>640000</td>\n",
       "      <td>3.0</td>\n",
       "      <td>1Bath1074</td>\n",
       "      <td>6,752 Sq. Ft.</td>\n",
       "      <td>1949</td>\n",
       "      <td>AveWinnetka</td>\n",
       "      <td>False</td>\n",
       "      <td>False</td>\n",
       "      <td>1</td>\n",
       "      <td>5.0</td>\n",
       "    </tr>\n",
       "    <tr>\n",
       "      <th>707</th>\n",
       "      <td>91335.0</td>\n",
       "      <td>665000</td>\n",
       "      <td>2.0</td>\n",
       "      <td>1Bath885</td>\n",
       "      <td>6,755 Sq. Ft.</td>\n",
       "      <td>1954</td>\n",
       "      <td>AveReseda</td>\n",
       "      <td>False</td>\n",
       "      <td>False</td>\n",
       "      <td>1</td>\n",
       "      <td>5.0</td>\n",
       "    </tr>\n",
       "    <tr>\n",
       "      <th>732</th>\n",
       "      <td>91335.0</td>\n",
       "      <td>725000</td>\n",
       "      <td>3.0</td>\n",
       "      <td>1Bath1073</td>\n",
       "      <td>6,239 Sq. Ft.</td>\n",
       "      <td>1951</td>\n",
       "      <td>AveReseda</td>\n",
       "      <td>False</td>\n",
       "      <td>False</td>\n",
       "      <td>1</td>\n",
       "      <td>4.6</td>\n",
       "    </tr>\n",
       "    <tr>\n",
       "      <th>733</th>\n",
       "      <td>91306.0</td>\n",
       "      <td>700000</td>\n",
       "      <td>2.0</td>\n",
       "      <td>1Bath1003</td>\n",
       "      <td>0.40 Acres</td>\n",
       "      <td>1949</td>\n",
       "      <td>StWinnetka</td>\n",
       "      <td>False</td>\n",
       "      <td>False</td>\n",
       "      <td>1</td>\n",
       "      <td>4.8</td>\n",
       "    </tr>\n",
       "    <tr>\n",
       "      <th>751</th>\n",
       "      <td>91303.0</td>\n",
       "      <td>700000</td>\n",
       "      <td>3.0</td>\n",
       "      <td>1Bath1000</td>\n",
       "      <td>5,006 Sq. Ft.</td>\n",
       "      <td>1956</td>\n",
       "      <td>Park</td>\n",
       "      <td>False</td>\n",
       "      <td>False</td>\n",
       "      <td>1</td>\n",
       "      <td>4.2</td>\n",
       "    </tr>\n",
       "    <tr>\n",
       "      <th>754</th>\n",
       "      <td>91306.0</td>\n",
       "      <td>661000</td>\n",
       "      <td>2.0</td>\n",
       "      <td>1Bath799</td>\n",
       "      <td>7,067 Sq. Ft.</td>\n",
       "      <td>1951</td>\n",
       "      <td>AveWinnetka</td>\n",
       "      <td>False</td>\n",
       "      <td>False</td>\n",
       "      <td>1</td>\n",
       "      <td>5.0</td>\n",
       "    </tr>\n",
       "    <tr>\n",
       "      <th>761</th>\n",
       "      <td>91324.0</td>\n",
       "      <td>773000</td>\n",
       "      <td>3.0</td>\n",
       "      <td>1Bath1245</td>\n",
       "      <td>6,050 Sq. Ft.</td>\n",
       "      <td>1952</td>\n",
       "      <td>StNorthridge</td>\n",
       "      <td>False</td>\n",
       "      <td>False</td>\n",
       "      <td>1</td>\n",
       "      <td>5.0</td>\n",
       "    </tr>\n",
       "    <tr>\n",
       "      <th>774</th>\n",
       "      <td>91306.0</td>\n",
       "      <td>680000</td>\n",
       "      <td>2.0</td>\n",
       "      <td>1Bath839</td>\n",
       "      <td>7,116 Sq. Ft.</td>\n",
       "      <td>1949</td>\n",
       "      <td>BlvdWinnetka</td>\n",
       "      <td>False</td>\n",
       "      <td>False</td>\n",
       "      <td>1</td>\n",
       "      <td>4.8</td>\n",
       "    </tr>\n",
       "    <tr>\n",
       "      <th>842</th>\n",
       "      <td>91316</td>\n",
       "      <td>860000</td>\n",
       "      <td>2.0</td>\n",
       "      <td>1Bath1107</td>\n",
       "      <td>5,535 Sq. Ft.</td>\n",
       "      <td>1949</td>\n",
       "      <td>AveEncino</td>\n",
       "      <td>False</td>\n",
       "      <td>False</td>\n",
       "      <td>1</td>\n",
       "      <td>5.5</td>\n",
       "    </tr>\n",
       "    <tr>\n",
       "      <th>851</th>\n",
       "      <td>91316</td>\n",
       "      <td>800000</td>\n",
       "      <td>2.0</td>\n",
       "      <td>1Bath802</td>\n",
       "      <td>5,629 Sq. Ft.</td>\n",
       "      <td>1949</td>\n",
       "      <td>AveEncino</td>\n",
       "      <td>False</td>\n",
       "      <td>False</td>\n",
       "      <td>1</td>\n",
       "      <td>5.5</td>\n",
       "    </tr>\n",
       "    <tr>\n",
       "      <th>852</th>\n",
       "      <td>91316</td>\n",
       "      <td>800000</td>\n",
       "      <td>2.0</td>\n",
       "      <td>1Bath806</td>\n",
       "      <td>5,699 Sq. Ft.</td>\n",
       "      <td>1949</td>\n",
       "      <td>StEncino</td>\n",
       "      <td>False</td>\n",
       "      <td>False</td>\n",
       "      <td>1</td>\n",
       "      <td>5.5</td>\n",
       "    </tr>\n",
       "    <tr>\n",
       "      <th>855</th>\n",
       "      <td>91316</td>\n",
       "      <td>872500</td>\n",
       "      <td>3.0</td>\n",
       "      <td>1Bath1051</td>\n",
       "      <td>5,610 Sq. Ft.</td>\n",
       "      <td>1949</td>\n",
       "      <td>StEncino</td>\n",
       "      <td>False</td>\n",
       "      <td>False</td>\n",
       "      <td>1</td>\n",
       "      <td>5.5</td>\n",
       "    </tr>\n",
       "    <tr>\n",
       "      <th>857</th>\n",
       "      <td>91316</td>\n",
       "      <td>880000</td>\n",
       "      <td>3.0</td>\n",
       "      <td>1Bath1002</td>\n",
       "      <td>5,699 Sq. Ft.</td>\n",
       "      <td>1949</td>\n",
       "      <td>StEncino</td>\n",
       "      <td>False</td>\n",
       "      <td>False</td>\n",
       "      <td>1</td>\n",
       "      <td>5.5</td>\n",
       "    </tr>\n",
       "    <tr>\n",
       "      <th>864</th>\n",
       "      <td>91406</td>\n",
       "      <td>590000</td>\n",
       "      <td>2.0</td>\n",
       "      <td>1Bath1125</td>\n",
       "      <td>6,270 Sq. Ft.</td>\n",
       "      <td>1950</td>\n",
       "      <td>Nuys</td>\n",
       "      <td>False</td>\n",
       "      <td>False</td>\n",
       "      <td>1</td>\n",
       "      <td>5.2</td>\n",
       "    </tr>\n",
       "    <tr>\n",
       "      <th>866</th>\n",
       "      <td>91406</td>\n",
       "      <td>670000</td>\n",
       "      <td>2.0</td>\n",
       "      <td>1Bath926</td>\n",
       "      <td>6,359 Sq. Ft.</td>\n",
       "      <td>1949</td>\n",
       "      <td>Balboa</td>\n",
       "      <td>False</td>\n",
       "      <td>False</td>\n",
       "      <td>1</td>\n",
       "      <td>5.2</td>\n",
       "    </tr>\n",
       "    <tr>\n",
       "      <th>871</th>\n",
       "      <td>91406</td>\n",
       "      <td>782500</td>\n",
       "      <td>3.0</td>\n",
       "      <td>1Bath1126</td>\n",
       "      <td>6,614 Sq. Ft.</td>\n",
       "      <td>1950</td>\n",
       "      <td>Nuys</td>\n",
       "      <td>False</td>\n",
       "      <td>False</td>\n",
       "      <td>1</td>\n",
       "      <td>5.6</td>\n",
       "    </tr>\n",
       "    <tr>\n",
       "      <th>876</th>\n",
       "      <td>91406</td>\n",
       "      <td>720000</td>\n",
       "      <td>3.0</td>\n",
       "      <td>1Bath1126</td>\n",
       "      <td>6,451 Sq. Ft.</td>\n",
       "      <td>1950</td>\n",
       "      <td>Balboa</td>\n",
       "      <td>False</td>\n",
       "      <td>False</td>\n",
       "      <td>1</td>\n",
       "      <td>5.6</td>\n",
       "    </tr>\n",
       "    <tr>\n",
       "      <th>877</th>\n",
       "      <td>91406</td>\n",
       "      <td>875000</td>\n",
       "      <td>3.0</td>\n",
       "      <td>1Bath1466</td>\n",
       "      <td>7,560 Sq. Ft.</td>\n",
       "      <td>1951</td>\n",
       "      <td>Balboa</td>\n",
       "      <td>False</td>\n",
       "      <td>False</td>\n",
       "      <td>1</td>\n",
       "      <td>5.2</td>\n",
       "    </tr>\n",
       "    <tr>\n",
       "      <th>888</th>\n",
       "      <td>91406</td>\n",
       "      <td>475000</td>\n",
       "      <td>3</td>\n",
       "      <td>1Bath1073</td>\n",
       "      <td>6,960 Sq. Ft.</td>\n",
       "      <td>1951</td>\n",
       "      <td>Balboa</td>\n",
       "      <td>False</td>\n",
       "      <td>False</td>\n",
       "      <td>1</td>\n",
       "      <td>6.0</td>\n",
       "    </tr>\n",
       "    <tr>\n",
       "      <th>890</th>\n",
       "      <td>91406</td>\n",
       "      <td>850000</td>\n",
       "      <td>3</td>\n",
       "      <td>1Bath1122</td>\n",
       "      <td>9,575 Sq. Ft.</td>\n",
       "      <td>1949</td>\n",
       "      <td>Balboa</td>\n",
       "      <td>False</td>\n",
       "      <td>False</td>\n",
       "      <td>1</td>\n",
       "      <td>6.0</td>\n",
       "    </tr>\n",
       "    <tr>\n",
       "      <th>891</th>\n",
       "      <td>91406</td>\n",
       "      <td>950000</td>\n",
       "      <td>3</td>\n",
       "      <td>1Bath1150</td>\n",
       "      <td>7,932 Sq. Ft.</td>\n",
       "      <td>1950</td>\n",
       "      <td>Balboa</td>\n",
       "      <td>False</td>\n",
       "      <td>False</td>\n",
       "      <td>1</td>\n",
       "      <td>6.0</td>\n",
       "    </tr>\n",
       "    <tr>\n",
       "      <th>892</th>\n",
       "      <td>91406</td>\n",
       "      <td>725000</td>\n",
       "      <td>3</td>\n",
       "      <td>1Bath1088</td>\n",
       "      <td>5,996 Sq. Ft.</td>\n",
       "      <td>1950</td>\n",
       "      <td>Balboa</td>\n",
       "      <td>False</td>\n",
       "      <td>False</td>\n",
       "      <td>1</td>\n",
       "      <td>5.2</td>\n",
       "    </tr>\n",
       "    <tr>\n",
       "      <th>896</th>\n",
       "      <td>91406</td>\n",
       "      <td>499000</td>\n",
       "      <td>2</td>\n",
       "      <td>1Bath794</td>\n",
       "      <td>5,660 Sq. Ft.</td>\n",
       "      <td>1950</td>\n",
       "      <td>Nuys</td>\n",
       "      <td>False</td>\n",
       "      <td>False</td>\n",
       "      <td>1</td>\n",
       "      <td>5.2</td>\n",
       "    </tr>\n",
       "    <tr>\n",
       "      <th>899</th>\n",
       "      <td>91406</td>\n",
       "      <td>625000</td>\n",
       "      <td>2</td>\n",
       "      <td>1Bath819</td>\n",
       "      <td>6,005 Sq. Ft.</td>\n",
       "      <td>1950</td>\n",
       "      <td>Balboa</td>\n",
       "      <td>False</td>\n",
       "      <td>False</td>\n",
       "      <td>1</td>\n",
       "      <td>5.2</td>\n",
       "    </tr>\n",
       "    <tr>\n",
       "      <th>1019</th>\n",
       "      <td>91406.0</td>\n",
       "      <td>717000</td>\n",
       "      <td>3.0</td>\n",
       "      <td>1Bath1132</td>\n",
       "      <td>5,638 Sq. Ft.</td>\n",
       "      <td>1948</td>\n",
       "      <td>Balboa</td>\n",
       "      <td>False</td>\n",
       "      <td>False</td>\n",
       "      <td>1</td>\n",
       "      <td>5.4</td>\n",
       "    </tr>\n",
       "    <tr>\n",
       "      <th>1106</th>\n",
       "      <td>91406.0</td>\n",
       "      <td>400000</td>\n",
       "      <td>3.0</td>\n",
       "      <td>1Bath1143</td>\n",
       "      <td>7,149 Sq. Ft.</td>\n",
       "      <td>1948</td>\n",
       "      <td>Balboa</td>\n",
       "      <td>False</td>\n",
       "      <td>False</td>\n",
       "      <td>1</td>\n",
       "      <td>4.8</td>\n",
       "    </tr>\n",
       "  </tbody>\n",
       "</table>\n",
       "</div>"
      ],
      "text/plain": [
       "     sold_price     beds baths    hm_sqft       lot_size yr_built  \\\n",
       "33        91303   615000   3.0   1Bath945  4,961 Sq. Ft.     1951   \n",
       "117       91303   701000   3.0  1Bath1268  6,752 Sq. Ft.     1954   \n",
       "251       91303   675000   2.0  1Bath1045  6,751 Sq. Ft.     1951   \n",
       "293       91335   704000     3  1Bath1148  6,000 Sq. Ft.     1951   \n",
       "294       91306   640000     3  1Bath1074  6,752 Sq. Ft.     1949   \n",
       "298       91335   665000     2   1Bath885  6,755 Sq. Ft.     1954   \n",
       "323       91335   725000     3  1Bath1073  6,239 Sq. Ft.     1951   \n",
       "324       91306   700000     2  1Bath1003     0.40 Acres     1949   \n",
       "342       91303   700000     3  1Bath1000  5,006 Sq. Ft.     1956   \n",
       "345       91306   661000     2   1Bath799  7,067 Sq. Ft.     1951   \n",
       "352       91324   773000     3  1Bath1245  6,050 Sq. Ft.     1952   \n",
       "365       91306   680000     2   1Bath839  7,116 Sq. Ft.     1949   \n",
       "440       91335   750000     3  1Bath1107  6,041 Sq. Ft.     1950   \n",
       "464       91316   800000     2   1Bath802  5,564 Sq. Ft.     1949   \n",
       "509       91356  1226000     3  1Bath1434  9,395 Sq. Ft.     1939   \n",
       "511       91316   860000     3  1Bath1117  6,212 Sq. Ft.     1950   \n",
       "527       91335   922000     3  1Bath1044  6,000 Sq. Ft.     1950   \n",
       "570       91335   720000     3  1Bath1044  6,000 Sq. Ft.     1950   \n",
       "702     91335.0   704000   3.0  1Bath1148  6,000 Sq. Ft.     1951   \n",
       "703     91306.0   640000   3.0  1Bath1074  6,752 Sq. Ft.     1949   \n",
       "707     91335.0   665000   2.0   1Bath885  6,755 Sq. Ft.     1954   \n",
       "732     91335.0   725000   3.0  1Bath1073  6,239 Sq. Ft.     1951   \n",
       "733     91306.0   700000   2.0  1Bath1003     0.40 Acres     1949   \n",
       "751     91303.0   700000   3.0  1Bath1000  5,006 Sq. Ft.     1956   \n",
       "754     91306.0   661000   2.0   1Bath799  7,067 Sq. Ft.     1951   \n",
       "761     91324.0   773000   3.0  1Bath1245  6,050 Sq. Ft.     1952   \n",
       "774     91306.0   680000   2.0   1Bath839  7,116 Sq. Ft.     1949   \n",
       "842       91316   860000   2.0  1Bath1107  5,535 Sq. Ft.     1949   \n",
       "851       91316   800000   2.0   1Bath802  5,629 Sq. Ft.     1949   \n",
       "852       91316   800000   2.0   1Bath806  5,699 Sq. Ft.     1949   \n",
       "855       91316   872500   3.0  1Bath1051  5,610 Sq. Ft.     1949   \n",
       "857       91316   880000   3.0  1Bath1002  5,699 Sq. Ft.     1949   \n",
       "864       91406   590000   2.0  1Bath1125  6,270 Sq. Ft.     1950   \n",
       "866       91406   670000   2.0   1Bath926  6,359 Sq. Ft.     1949   \n",
       "871       91406   782500   3.0  1Bath1126  6,614 Sq. Ft.     1950   \n",
       "876       91406   720000   3.0  1Bath1126  6,451 Sq. Ft.     1950   \n",
       "877       91406   875000   3.0  1Bath1466  7,560 Sq. Ft.     1951   \n",
       "888       91406   475000     3  1Bath1073  6,960 Sq. Ft.     1951   \n",
       "890       91406   850000     3  1Bath1122  9,575 Sq. Ft.     1949   \n",
       "891       91406   950000     3  1Bath1150  7,932 Sq. Ft.     1950   \n",
       "892       91406   725000     3  1Bath1088  5,996 Sq. Ft.     1950   \n",
       "896       91406   499000     2   1Bath794  5,660 Sq. Ft.     1950   \n",
       "899       91406   625000     2   1Bath819  6,005 Sq. Ft.     1950   \n",
       "1019    91406.0   717000   3.0  1Bath1132  5,638 Sq. Ft.     1948   \n",
       "1106    91406.0   400000   3.0  1Bath1143  7,149 Sq. Ft.     1948   \n",
       "\n",
       "           zipcode   pool  garage stories  schools  \n",
       "33            Park  False    True       1      4.2  \n",
       "117           Park   True    True       1      4.8  \n",
       "251           Park  False   False       1      4.8  \n",
       "293       StReseda  False   False       1      5.2  \n",
       "294    AveWinnetka  False   False       1      5.0  \n",
       "298      AveReseda  False   False       1      5.0  \n",
       "323      AveReseda  False   False       1      4.6  \n",
       "324     StWinnetka  False   False       1      4.8  \n",
       "342           Park  False   False       1      4.2  \n",
       "345    AveWinnetka  False   False       1      5.0  \n",
       "352   StNorthridge  False   False       1      5.0  \n",
       "365   BlvdWinnetka  False   False       1      4.8  \n",
       "440      AveReseda  False   False       1      5.2  \n",
       "464       StEncino  False   False       1      5.4  \n",
       "509     AveTarzana  False   False       1      6.0  \n",
       "511       StEncino  False   False       1      5.2  \n",
       "527      StTarzana  False   False       1      4.8  \n",
       "570      StTarzana  False   False       1      4.8  \n",
       "702       StReseda  False   False       1      5.2  \n",
       "703    AveWinnetka  False   False       1      5.0  \n",
       "707      AveReseda  False   False       1      5.0  \n",
       "732      AveReseda  False   False       1      4.6  \n",
       "733     StWinnetka  False   False       1      4.8  \n",
       "751           Park  False   False       1      4.2  \n",
       "754    AveWinnetka  False   False       1      5.0  \n",
       "761   StNorthridge  False   False       1      5.0  \n",
       "774   BlvdWinnetka  False   False       1      4.8  \n",
       "842      AveEncino  False   False       1      5.5  \n",
       "851      AveEncino  False   False       1      5.5  \n",
       "852       StEncino  False   False       1      5.5  \n",
       "855       StEncino  False   False       1      5.5  \n",
       "857       StEncino  False   False       1      5.5  \n",
       "864           Nuys  False   False       1      5.2  \n",
       "866         Balboa  False   False       1      5.2  \n",
       "871           Nuys  False   False       1      5.6  \n",
       "876         Balboa  False   False       1      5.6  \n",
       "877         Balboa  False   False       1      5.2  \n",
       "888         Balboa  False   False       1      6.0  \n",
       "890         Balboa  False   False       1      6.0  \n",
       "891         Balboa  False   False       1      6.0  \n",
       "892         Balboa  False   False       1      5.2  \n",
       "896           Nuys  False   False       1      5.2  \n",
       "899         Balboa  False   False       1      5.2  \n",
       "1019        Balboa  False   False       1      5.4  \n",
       "1106        Balboa  False   False       1      4.8  "
      ]
     },
     "execution_count": 120,
     "metadata": {},
     "output_type": "execute_result"
    }
   ],
   "source": [
    "df[df['beds'].astype('int') > 20]"
   ]
  },
  {
   "cell_type": "code",
   "execution_count": 121,
   "id": "2783da29",
   "metadata": {},
   "outputs": [],
   "source": [
    "# Same error for all of these; just move current 'sold_price' to 'zipcode', 'beds' to 'sold_price',\n",
    "#   'baths' to 'beds', and split out char string in 'hm_sqft' appropriately beteween that column\n",
    "#    and 'baths'\n",
    "\n",
    "for row in df[df['beds'].astype('int') > 20].itertuples():\n",
    "    df.loc[row[0], 'zipcode'] = df.loc[row[0], 'sold_price']\n",
    "    df.loc[row[0], 'sold_price'] = df.loc[row[0], 'beds']\n",
    "    df.loc[row[0], 'beds'] = df.loc[row[0], 'baths']\n",
    "    df.loc[row[0], 'baths'] = df.loc[row[0], 'hm_sqft'].split('Bath')[0]\n",
    "    df.loc[row[0], 'hm_sqft'] = df.loc[row[0], 'hm_sqft'].split('Bath')[1]"
   ]
  },
  {
   "cell_type": "code",
   "execution_count": 122,
   "id": "65e6559a",
   "metadata": {},
   "outputs": [
    {
     "data": {
      "text/html": [
       "<div>\n",
       "<style scoped>\n",
       "    .dataframe tbody tr th:only-of-type {\n",
       "        vertical-align: middle;\n",
       "    }\n",
       "\n",
       "    .dataframe tbody tr th {\n",
       "        vertical-align: top;\n",
       "    }\n",
       "\n",
       "    .dataframe thead th {\n",
       "        text-align: right;\n",
       "    }\n",
       "</style>\n",
       "<table border=\"1\" class=\"dataframe\">\n",
       "  <thead>\n",
       "    <tr style=\"text-align: right;\">\n",
       "      <th></th>\n",
       "      <th>sold_price</th>\n",
       "      <th>beds</th>\n",
       "      <th>baths</th>\n",
       "      <th>hm_sqft</th>\n",
       "      <th>lot_size</th>\n",
       "      <th>yr_built</th>\n",
       "      <th>zipcode</th>\n",
       "      <th>pool</th>\n",
       "      <th>garage</th>\n",
       "      <th>stories</th>\n",
       "      <th>schools</th>\n",
       "    </tr>\n",
       "  </thead>\n",
       "  <tbody>\n",
       "  </tbody>\n",
       "</table>\n",
       "</div>"
      ],
      "text/plain": [
       "Empty DataFrame\n",
       "Columns: [sold_price, beds, baths, hm_sqft, lot_size, yr_built, zipcode, pool, garage, stories, schools]\n",
       "Index: []"
      ]
     },
     "execution_count": 122,
     "metadata": {},
     "output_type": "execute_result"
    }
   ],
   "source": [
    "df[df['beds'].astype('int') > 20]"
   ]
  },
  {
   "cell_type": "markdown",
   "id": "b07bbc47",
   "metadata": {},
   "source": [
    "### Another anomaly (lazy realtor not filling in the info - found it by looking the property up)"
   ]
  },
  {
   "cell_type": "code",
   "execution_count": 123,
   "id": "39a17682",
   "metadata": {},
   "outputs": [
    {
     "data": {
      "text/plain": [
       "sold_price     1137500.0\n",
       "beds                   5\n",
       "baths                  —\n",
       "hm_sqft             2437\n",
       "lot_size      0.28 Acres\n",
       "yr_built            1965\n",
       "zipcode            91326\n",
       "pool               False\n",
       "garage             False\n",
       "stories                2\n",
       "schools         6.166667\n",
       "Name: 674, dtype: object"
      ]
     },
     "execution_count": 123,
     "metadata": {},
     "output_type": "execute_result"
    }
   ],
   "source": [
    "df.loc[674]"
   ]
  },
  {
   "cell_type": "code",
   "execution_count": 124,
   "id": "cd03dc24",
   "metadata": {
    "scrolled": false
   },
   "outputs": [
    {
     "data": {
      "text/plain": [
       "sold_price     1137500.0\n",
       "beds                   5\n",
       "baths                3.0\n",
       "hm_sqft             2437\n",
       "lot_size      0.28 Acres\n",
       "yr_built            1965\n",
       "zipcode            91326\n",
       "pool               False\n",
       "garage             False\n",
       "stories                2\n",
       "schools         6.166667\n",
       "Name: 674, dtype: object"
      ]
     },
     "execution_count": 124,
     "metadata": {},
     "output_type": "execute_result"
    }
   ],
   "source": [
    "df.loc[674, 'baths'] = 3.0\n",
    "df.loc[674]"
   ]
  },
  {
   "cell_type": "markdown",
   "id": "9be1ff4c",
   "metadata": {},
   "source": [
    "### Drop any decimal points that might appear in columns destined to become integer"
   ]
  },
  {
   "cell_type": "code",
   "execution_count": 125,
   "id": "4801e76e",
   "metadata": {
    "scrolled": true
   },
   "outputs": [],
   "source": [
    "df['sold_price'] = [str(val).split('.')[0] for val in df['sold_price']]\n",
    "df['beds'] = [str(val).split('.')[0] for val in df['beds']]\n",
    "df['hm_sqft'] = [str(val).split('.')[0] for val in df['hm_sqft']]\n",
    "df['yr_built'] = [str(val).split('.')[0] for val in df['yr_built']]\n",
    "df['zipcode'] = [str(val).split('.')[0] for val in df['zipcode']]\n",
    "df['stories'] = [str(val).split('.')[0] for val in df['stories']]"
   ]
  },
  {
   "cell_type": "markdown",
   "id": "6d0a51a8",
   "metadata": {},
   "source": [
    "### Set the column types appropriatedly"
   ]
  },
  {
   "cell_type": "code",
   "execution_count": 126,
   "id": "fd381f18",
   "metadata": {},
   "outputs": [
    {
     "data": {
      "text/plain": [
       "sold_price     object\n",
       "beds           object\n",
       "baths          object\n",
       "hm_sqft        object\n",
       "lot_size       object\n",
       "yr_built       object\n",
       "zipcode        object\n",
       "pool             bool\n",
       "garage           bool\n",
       "stories        object\n",
       "schools       float64\n",
       "dtype: object"
      ]
     },
     "execution_count": 126,
     "metadata": {},
     "output_type": "execute_result"
    }
   ],
   "source": [
    "df.dtypes"
   ]
  },
  {
   "cell_type": "code",
   "execution_count": 127,
   "id": "b2c84602",
   "metadata": {},
   "outputs": [],
   "source": [
    "df['sold_price'] = df['sold_price'].astype('int')\n",
    "df['beds'] = df['beds'].astype('int')\n",
    "df['baths'] = df['baths'].astype('float')\n",
    "df['hm_sqft'] = df['hm_sqft'].astype('int')\n",
    "df['yr_built'] = df['yr_built'].astype('int')\n",
    "df['zipcode'] = df['zipcode'].astype('int')\n",
    "df['stories'] = df['stories'].astype('int')"
   ]
  },
  {
   "cell_type": "code",
   "execution_count": 128,
   "id": "93b57995",
   "metadata": {},
   "outputs": [
    {
     "data": {
      "text/plain": [
       "sold_price      int64\n",
       "beds            int64\n",
       "baths         float64\n",
       "hm_sqft         int64\n",
       "lot_size       object\n",
       "yr_built        int64\n",
       "zipcode         int64\n",
       "pool             bool\n",
       "garage           bool\n",
       "stories         int64\n",
       "schools       float64\n",
       "dtype: object"
      ]
     },
     "execution_count": 128,
     "metadata": {},
     "output_type": "execute_result"
    }
   ],
   "source": [
    "df.dtypes"
   ]
  },
  {
   "cell_type": "markdown",
   "id": "cb0f1e20",
   "metadata": {},
   "source": [
    "### Special handling for 'lot_size' column: some values are in square feet, others in acres; need to fix this"
   ]
  },
  {
   "cell_type": "code",
   "execution_count": 129,
   "id": "a6f6c57a",
   "metadata": {},
   "outputs": [
    {
     "data": {
      "text/plain": [
       "0     6,999 Sq. Ft.\n",
       "1        0.27 Acres\n",
       "2    10,560 Sq. Ft.\n",
       "3     7,253 Sq. Ft.\n",
       "4     9,347 Sq. Ft.\n",
       "Name: lot_size, dtype: object"
      ]
     },
     "execution_count": 129,
     "metadata": {},
     "output_type": "execute_result"
    }
   ],
   "source": [
    "df['lot_size'].head()"
   ]
  },
  {
   "cell_type": "code",
   "execution_count": 130,
   "id": "9222a358",
   "metadata": {},
   "outputs": [],
   "source": [
    "# 1 acre = 43560 square feet\n",
    "# get rid of units and commas, convert acres to square feet where appropriate\n",
    "\n",
    "df['lot_size'] = [str(int(float(val.split()[0])*43560)) if len(val.split()) == 2 \\\n",
    "                  else val.replace(' Sq. Ft.', '').replace(',', '') \\\n",
    "                  for val in df['lot_size'] ]"
   ]
  },
  {
   "cell_type": "code",
   "execution_count": 131,
   "id": "8a327b59",
   "metadata": {},
   "outputs": [],
   "source": [
    "df['lot_size'] = df['lot_size'].astype('int')"
   ]
  },
  {
   "cell_type": "code",
   "execution_count": 132,
   "id": "b860c7fe",
   "metadata": {},
   "outputs": [
    {
     "data": {
      "text/plain": [
       "sold_price      int64\n",
       "beds            int64\n",
       "baths         float64\n",
       "hm_sqft         int64\n",
       "lot_size        int64\n",
       "yr_built        int64\n",
       "zipcode         int64\n",
       "pool             bool\n",
       "garage           bool\n",
       "stories         int64\n",
       "schools       float64\n",
       "dtype: object"
      ]
     },
     "execution_count": 132,
     "metadata": {},
     "output_type": "execute_result"
    }
   ],
   "source": [
    "df.dtypes"
   ]
  },
  {
   "cell_type": "markdown",
   "id": "99247586",
   "metadata": {},
   "source": [
    "### Check for and drop any remaining duplicates"
   ]
  },
  {
   "cell_type": "code",
   "execution_count": 133,
   "id": "341054cd",
   "metadata": {},
   "outputs": [
    {
     "name": "stdout",
     "output_type": "stream",
     "text": [
      "(1148, 11)\n",
      "(1011, 11)\n"
     ]
    }
   ],
   "source": [
    "print(df.shape)\n",
    "df = df.drop_duplicates()\n",
    "print(df.shape)"
   ]
  },
  {
   "cell_type": "markdown",
   "id": "61323115",
   "metadata": {},
   "source": [
    "### Let's Do Some Quick Summarization"
   ]
  },
  {
   "cell_type": "code",
   "execution_count": 134,
   "id": "3410b86b",
   "metadata": {},
   "outputs": [
    {
     "data": {
      "text/html": [
       "<div>\n",
       "<style scoped>\n",
       "    .dataframe tbody tr th:only-of-type {\n",
       "        vertical-align: middle;\n",
       "    }\n",
       "\n",
       "    .dataframe tbody tr th {\n",
       "        vertical-align: top;\n",
       "    }\n",
       "\n",
       "    .dataframe thead th {\n",
       "        text-align: right;\n",
       "    }\n",
       "</style>\n",
       "<table border=\"1\" class=\"dataframe\">\n",
       "  <thead>\n",
       "    <tr style=\"text-align: right;\">\n",
       "      <th></th>\n",
       "      <th>sold_price</th>\n",
       "      <th>beds</th>\n",
       "      <th>baths</th>\n",
       "      <th>hm_sqft</th>\n",
       "      <th>lot_size</th>\n",
       "      <th>yr_built</th>\n",
       "      <th>zipcode</th>\n",
       "      <th>stories</th>\n",
       "      <th>schools</th>\n",
       "    </tr>\n",
       "  </thead>\n",
       "  <tbody>\n",
       "    <tr>\n",
       "      <th>count</th>\n",
       "      <td>1.011000e+03</td>\n",
       "      <td>1011.000000</td>\n",
       "      <td>1011.000000</td>\n",
       "      <td>1011.000000</td>\n",
       "      <td>1011.000000</td>\n",
       "      <td>1011.000000</td>\n",
       "      <td>1011.000000</td>\n",
       "      <td>1011.000000</td>\n",
       "      <td>1011.000000</td>\n",
       "    </tr>\n",
       "    <tr>\n",
       "      <th>mean</th>\n",
       "      <td>1.126206e+06</td>\n",
       "      <td>3.633037</td>\n",
       "      <td>2.544510</td>\n",
       "      <td>2081.720079</td>\n",
       "      <td>10828.724036</td>\n",
       "      <td>1960.297725</td>\n",
       "      <td>91341.634026</td>\n",
       "      <td>1.178042</td>\n",
       "      <td>5.738731</td>\n",
       "    </tr>\n",
       "    <tr>\n",
       "      <th>std</th>\n",
       "      <td>5.022851e+05</td>\n",
       "      <td>0.844819</td>\n",
       "      <td>0.924634</td>\n",
       "      <td>886.574023</td>\n",
       "      <td>15533.545033</td>\n",
       "      <td>11.616964</td>\n",
       "      <td>31.162630</td>\n",
       "      <td>0.387876</td>\n",
       "      <td>0.674897</td>\n",
       "    </tr>\n",
       "    <tr>\n",
       "      <th>min</th>\n",
       "      <td>4.000000e+05</td>\n",
       "      <td>1.000000</td>\n",
       "      <td>1.000000</td>\n",
       "      <td>552.000000</td>\n",
       "      <td>2000.000000</td>\n",
       "      <td>1920.000000</td>\n",
       "      <td>91302.000000</td>\n",
       "      <td>1.000000</td>\n",
       "      <td>4.200000</td>\n",
       "    </tr>\n",
       "    <tr>\n",
       "      <th>25%</th>\n",
       "      <td>8.400000e+05</td>\n",
       "      <td>3.000000</td>\n",
       "      <td>2.000000</td>\n",
       "      <td>1471.000000</td>\n",
       "      <td>7083.000000</td>\n",
       "      <td>1954.000000</td>\n",
       "      <td>91316.000000</td>\n",
       "      <td>1.000000</td>\n",
       "      <td>5.200000</td>\n",
       "    </tr>\n",
       "    <tr>\n",
       "      <th>50%</th>\n",
       "      <td>9.650000e+05</td>\n",
       "      <td>4.000000</td>\n",
       "      <td>2.000000</td>\n",
       "      <td>1873.000000</td>\n",
       "      <td>8217.000000</td>\n",
       "      <td>1958.000000</td>\n",
       "      <td>91343.000000</td>\n",
       "      <td>1.000000</td>\n",
       "      <td>5.666667</td>\n",
       "    </tr>\n",
       "    <tr>\n",
       "      <th>75%</th>\n",
       "      <td>1.260000e+06</td>\n",
       "      <td>4.000000</td>\n",
       "      <td>3.000000</td>\n",
       "      <td>2447.000000</td>\n",
       "      <td>11761.000000</td>\n",
       "      <td>1964.000000</td>\n",
       "      <td>91364.000000</td>\n",
       "      <td>1.000000</td>\n",
       "      <td>6.166667</td>\n",
       "    </tr>\n",
       "    <tr>\n",
       "      <th>max</th>\n",
       "      <td>5.500000e+06</td>\n",
       "      <td>8.000000</td>\n",
       "      <td>8.000000</td>\n",
       "      <td>8189.000000</td>\n",
       "      <td>475675.000000</td>\n",
       "      <td>2021.000000</td>\n",
       "      <td>91436.000000</td>\n",
       "      <td>3.000000</td>\n",
       "      <td>7.666667</td>\n",
       "    </tr>\n",
       "  </tbody>\n",
       "</table>\n",
       "</div>"
      ],
      "text/plain": [
       "         sold_price         beds        baths      hm_sqft       lot_size  \\\n",
       "count  1.011000e+03  1011.000000  1011.000000  1011.000000    1011.000000   \n",
       "mean   1.126206e+06     3.633037     2.544510  2081.720079   10828.724036   \n",
       "std    5.022851e+05     0.844819     0.924634   886.574023   15533.545033   \n",
       "min    4.000000e+05     1.000000     1.000000   552.000000    2000.000000   \n",
       "25%    8.400000e+05     3.000000     2.000000  1471.000000    7083.000000   \n",
       "50%    9.650000e+05     4.000000     2.000000  1873.000000    8217.000000   \n",
       "75%    1.260000e+06     4.000000     3.000000  2447.000000   11761.000000   \n",
       "max    5.500000e+06     8.000000     8.000000  8189.000000  475675.000000   \n",
       "\n",
       "          yr_built       zipcode      stories      schools  \n",
       "count  1011.000000   1011.000000  1011.000000  1011.000000  \n",
       "mean   1960.297725  91341.634026     1.178042     5.738731  \n",
       "std      11.616964     31.162630     0.387876     0.674897  \n",
       "min    1920.000000  91302.000000     1.000000     4.200000  \n",
       "25%    1954.000000  91316.000000     1.000000     5.200000  \n",
       "50%    1958.000000  91343.000000     1.000000     5.666667  \n",
       "75%    1964.000000  91364.000000     1.000000     6.166667  \n",
       "max    2021.000000  91436.000000     3.000000     7.666667  "
      ]
     },
     "execution_count": 134,
     "metadata": {},
     "output_type": "execute_result"
    }
   ],
   "source": [
    "df.describe()"
   ]
  },
  {
   "cell_type": "code",
   "execution_count": null,
   "id": "87df6405",
   "metadata": {},
   "outputs": [],
   "source": []
  },
  {
   "cell_type": "markdown",
   "id": "d0eb36be",
   "metadata": {},
   "source": [
    "# 2) Now bring in the additional csv data summaries downloaded from web"
   ]
  },
  {
   "cell_type": "code",
   "execution_count": 135,
   "id": "19ca2d12",
   "metadata": {},
   "outputs": [],
   "source": [
    "files = ['sup_2021-08-27-10-35-17_NorthCentralValley.csv', 'sup_2021-08-27-07-09-00_NorthValley.csv',\n",
    "         'sup_2021-08-27-12-21-36_SouthCentralValley.csv', 'sup_2021-08-27-17-26-48_WestValley_Updated.csv',\n",
    "         'sup_2021-08-27-18-27-26_SouthEastBottom.csv', 'sup_2021-08-27-19-25-38_SouthEastBottomUpOne.csv',\n",
    "         'sup_2021-08-27-19-37-41_SouthEastBottomUpTwo.csv', 'sup_2021-08-27-19-52-02_SouthEastBottomUpThree.csv',\n",
    "         'sup_2021-08-27-20-24-21_SouthEastCenterBottom.csv', 'sup_2021-08-28-15-23-04_SouthEastCenterCenter.csv',\n",
    "         'sup_2021-08-28-15-43-33_SouthEastCenterTop.csv', 'sup_2021-08-28-15-59-43_NorthEastCenterBottom.csv',\n",
    "         'sup_2021-08-28-16-33-14_NorthEastCenterCenter.csv', 'sup_2021-08-28-16-49-23_ NorthEastUpperBottom.csv',\n",
    "         'sup_2021-08-28-17-06-30_NorthEastUpperCenter.csv', 'sup_2021-08-28-17-18-35_NorthEastUpperTop.csv',\n",
    "         'sup_2021-08-28-23-42-30_EasternEdge.csv', 'sup_2021-08-29-16-22-49_91326.csv',\n",
    "         'sup_2021-08-29-16-19-12_91364.csv', 'sup_2021-08-29-16-16-45_91307.csv',\n",
    "         'sup_2021-08-29-16-14-17_91303.csv', 'sup_2021-08-29-16-09-53_91367_2.csv',\n",
    "         'sup_2021-08-29-16-07-38_91304.csv', 'sup_2021-08-29-15-45-14_91367.csv',\n",
    "         'sup_2021-08-29-16-32-27_91367_2.csv']\n",
    "\n",
    "for n, file in enumerate(files):\n",
    "    if n == 0:\n",
    "        sup = pd.read_csv('supplemental_data/' + file)\n",
    "    else:\n",
    "        sup = pd.concat([sup, pd.read_csv('supplemental_data/' + file)])\n",
    "        \n",
    "sup.reset_index(drop=True, inplace=True)"
   ]
  },
  {
   "cell_type": "code",
   "execution_count": 136,
   "id": "548e6ade",
   "metadata": {},
   "outputs": [
    {
     "data": {
      "text/plain": [
       "(1506, 27)"
      ]
     },
     "execution_count": 136,
     "metadata": {},
     "output_type": "execute_result"
    }
   ],
   "source": [
    "sup.shape"
   ]
  },
  {
   "cell_type": "code",
   "execution_count": 137,
   "id": "ad0b1c01",
   "metadata": {},
   "outputs": [],
   "source": [
    "sup = sup.drop(columns=['SALE TYPE', 'PROPERTY TYPE', 'BATHS', 'CITY', 'STATE OR PROVINCE', 'LOCATION', \n",
    "                        'LOT SIZE', 'NEXT OPEN HOUSE START TIME', 'NEXT OPEN HOUSE END TIME', 'SOURCE', \n",
    "                        'MLS#', 'FAVORITE', 'INTERESTED', 'STATUS', '$/SQUARE FEET'])"
   ]
  },
  {
   "cell_type": "code",
   "execution_count": 138,
   "id": "743ad39d",
   "metadata": {},
   "outputs": [
    {
     "data": {
      "text/html": [
       "<div>\n",
       "<style scoped>\n",
       "    .dataframe tbody tr th:only-of-type {\n",
       "        vertical-align: middle;\n",
       "    }\n",
       "\n",
       "    .dataframe tbody tr th {\n",
       "        vertical-align: top;\n",
       "    }\n",
       "\n",
       "    .dataframe thead th {\n",
       "        text-align: right;\n",
       "    }\n",
       "</style>\n",
       "<table border=\"1\" class=\"dataframe\">\n",
       "  <thead>\n",
       "    <tr style=\"text-align: right;\">\n",
       "      <th></th>\n",
       "      <th>SOLD DATE</th>\n",
       "      <th>ADDRESS</th>\n",
       "      <th>ZIP OR POSTAL CODE</th>\n",
       "      <th>PRICE</th>\n",
       "      <th>BEDS</th>\n",
       "      <th>SQUARE FEET</th>\n",
       "      <th>YEAR BUILT</th>\n",
       "      <th>DAYS ON MARKET</th>\n",
       "      <th>HOA/MONTH</th>\n",
       "      <th>URL (SEE http://www.redfin.com/buy-a-home/comparative-market-analysis FOR INFO ON PRICING)</th>\n",
       "      <th>LATITUDE</th>\n",
       "      <th>LONGITUDE</th>\n",
       "    </tr>\n",
       "  </thead>\n",
       "  <tbody>\n",
       "    <tr>\n",
       "      <th>0</th>\n",
       "      <td>July-22-2021</td>\n",
       "      <td>7937 N Keer Dr</td>\n",
       "      <td>91335.0</td>\n",
       "      <td>850000</td>\n",
       "      <td>5.0</td>\n",
       "      <td>2141.0</td>\n",
       "      <td>2016.0</td>\n",
       "      <td>36.0</td>\n",
       "      <td>41.0</td>\n",
       "      <td>http://www.redfin.com/CA/Reseda/7937-N-Keer-Dr...</td>\n",
       "      <td>34.215045</td>\n",
       "      <td>-118.535042</td>\n",
       "    </tr>\n",
       "    <tr>\n",
       "      <th>1</th>\n",
       "      <td>June-15-2021</td>\n",
       "      <td>7417 Delco Ave</td>\n",
       "      <td>91306.0</td>\n",
       "      <td>949000</td>\n",
       "      <td>5.0</td>\n",
       "      <td>2417.0</td>\n",
       "      <td>1979.0</td>\n",
       "      <td>73.0</td>\n",
       "      <td>NaN</td>\n",
       "      <td>http://www.redfin.com/CA/Canoga-Park/7417-Delc...</td>\n",
       "      <td>34.205416</td>\n",
       "      <td>-118.578453</td>\n",
       "    </tr>\n",
       "    <tr>\n",
       "      <th>2</th>\n",
       "      <td>August-20-2021</td>\n",
       "      <td>20541 Hart St</td>\n",
       "      <td>91306.0</td>\n",
       "      <td>730000</td>\n",
       "      <td>3.0</td>\n",
       "      <td>1212.0</td>\n",
       "      <td>1954.0</td>\n",
       "      <td>7.0</td>\n",
       "      <td>NaN</td>\n",
       "      <td>http://www.redfin.com/CA/Canoga-Park/20541-Har...</td>\n",
       "      <td>34.197026</td>\n",
       "      <td>-118.581189</td>\n",
       "    </tr>\n",
       "    <tr>\n",
       "      <th>3</th>\n",
       "      <td>June-14-2021</td>\n",
       "      <td>18043 Sunburst St</td>\n",
       "      <td>91325.0</td>\n",
       "      <td>1300000</td>\n",
       "      <td>4.0</td>\n",
       "      <td>2809.0</td>\n",
       "      <td>1957.0</td>\n",
       "      <td>74.0</td>\n",
       "      <td>NaN</td>\n",
       "      <td>http://www.redfin.com/CA/Northridge/18043-Sunb...</td>\n",
       "      <td>34.234288</td>\n",
       "      <td>-118.526605</td>\n",
       "    </tr>\n",
       "    <tr>\n",
       "      <th>4</th>\n",
       "      <td>June-1-2021</td>\n",
       "      <td>19508 Leadwell St</td>\n",
       "      <td>91335.0</td>\n",
       "      <td>635000</td>\n",
       "      <td>3.0</td>\n",
       "      <td>1097.0</td>\n",
       "      <td>1947.0</td>\n",
       "      <td>87.0</td>\n",
       "      <td>NaN</td>\n",
       "      <td>http://www.redfin.com/CA/Reseda/19508-Leadwell...</td>\n",
       "      <td>34.203339</td>\n",
       "      <td>-118.558299</td>\n",
       "    </tr>\n",
       "  </tbody>\n",
       "</table>\n",
       "</div>"
      ],
      "text/plain": [
       "        SOLD DATE            ADDRESS  ZIP OR POSTAL CODE    PRICE  BEDS  \\\n",
       "0    July-22-2021     7937 N Keer Dr             91335.0   850000   5.0   \n",
       "1    June-15-2021     7417 Delco Ave             91306.0   949000   5.0   \n",
       "2  August-20-2021      20541 Hart St             91306.0   730000   3.0   \n",
       "3    June-14-2021  18043 Sunburst St             91325.0  1300000   4.0   \n",
       "4     June-1-2021  19508 Leadwell St             91335.0   635000   3.0   \n",
       "\n",
       "   SQUARE FEET  YEAR BUILT  DAYS ON MARKET  HOA/MONTH  \\\n",
       "0       2141.0      2016.0            36.0       41.0   \n",
       "1       2417.0      1979.0            73.0        NaN   \n",
       "2       1212.0      1954.0             7.0        NaN   \n",
       "3       2809.0      1957.0            74.0        NaN   \n",
       "4       1097.0      1947.0            87.0        NaN   \n",
       "\n",
       "  URL (SEE http://www.redfin.com/buy-a-home/comparative-market-analysis FOR INFO ON PRICING)  \\\n",
       "0  http://www.redfin.com/CA/Reseda/7937-N-Keer-Dr...                                           \n",
       "1  http://www.redfin.com/CA/Canoga-Park/7417-Delc...                                           \n",
       "2  http://www.redfin.com/CA/Canoga-Park/20541-Har...                                           \n",
       "3  http://www.redfin.com/CA/Northridge/18043-Sunb...                                           \n",
       "4  http://www.redfin.com/CA/Reseda/19508-Leadwell...                                           \n",
       "\n",
       "    LATITUDE   LONGITUDE  \n",
       "0  34.215045 -118.535042  \n",
       "1  34.205416 -118.578453  \n",
       "2  34.197026 -118.581189  \n",
       "3  34.234288 -118.526605  \n",
       "4  34.203339 -118.558299  "
      ]
     },
     "execution_count": 138,
     "metadata": {},
     "output_type": "execute_result"
    }
   ],
   "source": [
    "sup.head()"
   ]
  },
  {
   "cell_type": "code",
   "execution_count": 139,
   "id": "59543cee",
   "metadata": {},
   "outputs": [
    {
     "data": {
      "text/plain": [
       "SOLD DATE                                                                                      object\n",
       "ADDRESS                                                                                        object\n",
       "ZIP OR POSTAL CODE                                                                            float64\n",
       "PRICE                                                                                           int64\n",
       "BEDS                                                                                          float64\n",
       "SQUARE FEET                                                                                   float64\n",
       "YEAR BUILT                                                                                    float64\n",
       "DAYS ON MARKET                                                                                float64\n",
       "HOA/MONTH                                                                                     float64\n",
       "URL (SEE http://www.redfin.com/buy-a-home/comparative-market-analysis FOR INFO ON PRICING)     object\n",
       "LATITUDE                                                                                      float64\n",
       "LONGITUDE                                                                                     float64\n",
       "dtype: object"
      ]
     },
     "execution_count": 139,
     "metadata": {},
     "output_type": "execute_result"
    }
   ],
   "source": [
    "sup.dtypes"
   ]
  },
  {
   "cell_type": "markdown",
   "id": "a3a9e5e7",
   "metadata": {},
   "source": [
    "### Get the columns we want to merge on with df into the same format"
   ]
  },
  {
   "cell_type": "code",
   "execution_count": 140,
   "id": "07a1f438",
   "metadata": {},
   "outputs": [],
   "source": [
    "# Drop rows with NaN in any of the columns we want to merge on\n",
    "\n",
    "sup = sup[~sup[['ZIP OR POSTAL CODE', 'PRICE', 'BEDS', 'SQUARE FEET', 'YEAR BUILT']].isna().any(axis=1)]"
   ]
  },
  {
   "cell_type": "code",
   "execution_count": 141,
   "id": "50797325",
   "metadata": {},
   "outputs": [],
   "source": [
    "sup['ZIP OR POSTAL CODE'] = sup['ZIP OR POSTAL CODE'].astype('int')\n",
    "sup['PRICE'] = sup['PRICE'].astype('int')\n",
    "sup['BEDS'] = sup['BEDS'].astype('int')\n",
    "sup['SQUARE FEET'] = sup['SQUARE FEET'].astype('int')\n",
    "sup['YEAR BUILT'] = sup['YEAR BUILT'].astype('int')"
   ]
  },
  {
   "cell_type": "code",
   "execution_count": 142,
   "id": "24e7fb72",
   "metadata": {},
   "outputs": [
    {
     "data": {
      "text/html": [
       "<div>\n",
       "<style scoped>\n",
       "    .dataframe tbody tr th:only-of-type {\n",
       "        vertical-align: middle;\n",
       "    }\n",
       "\n",
       "    .dataframe tbody tr th {\n",
       "        vertical-align: top;\n",
       "    }\n",
       "\n",
       "    .dataframe thead th {\n",
       "        text-align: right;\n",
       "    }\n",
       "</style>\n",
       "<table border=\"1\" class=\"dataframe\">\n",
       "  <thead>\n",
       "    <tr style=\"text-align: right;\">\n",
       "      <th></th>\n",
       "      <th>SOLD DATE</th>\n",
       "      <th>ADDRESS</th>\n",
       "      <th>zipcode</th>\n",
       "      <th>sold_price</th>\n",
       "      <th>beds</th>\n",
       "      <th>hm_sqft</th>\n",
       "      <th>yr_built</th>\n",
       "      <th>DAYS ON MARKET</th>\n",
       "      <th>HOA/MONTH</th>\n",
       "      <th>URL (SEE http://www.redfin.com/buy-a-home/comparative-market-analysis FOR INFO ON PRICING)</th>\n",
       "      <th>LATITUDE</th>\n",
       "      <th>LONGITUDE</th>\n",
       "    </tr>\n",
       "  </thead>\n",
       "  <tbody>\n",
       "    <tr>\n",
       "      <th>0</th>\n",
       "      <td>July-22-2021</td>\n",
       "      <td>7937 N Keer Dr</td>\n",
       "      <td>91335</td>\n",
       "      <td>850000</td>\n",
       "      <td>5</td>\n",
       "      <td>2141</td>\n",
       "      <td>2016</td>\n",
       "      <td>36.0</td>\n",
       "      <td>41.0</td>\n",
       "      <td>http://www.redfin.com/CA/Reseda/7937-N-Keer-Dr...</td>\n",
       "      <td>34.215045</td>\n",
       "      <td>-118.535042</td>\n",
       "    </tr>\n",
       "    <tr>\n",
       "      <th>1</th>\n",
       "      <td>June-15-2021</td>\n",
       "      <td>7417 Delco Ave</td>\n",
       "      <td>91306</td>\n",
       "      <td>949000</td>\n",
       "      <td>5</td>\n",
       "      <td>2417</td>\n",
       "      <td>1979</td>\n",
       "      <td>73.0</td>\n",
       "      <td>NaN</td>\n",
       "      <td>http://www.redfin.com/CA/Canoga-Park/7417-Delc...</td>\n",
       "      <td>34.205416</td>\n",
       "      <td>-118.578453</td>\n",
       "    </tr>\n",
       "    <tr>\n",
       "      <th>2</th>\n",
       "      <td>August-20-2021</td>\n",
       "      <td>20541 Hart St</td>\n",
       "      <td>91306</td>\n",
       "      <td>730000</td>\n",
       "      <td>3</td>\n",
       "      <td>1212</td>\n",
       "      <td>1954</td>\n",
       "      <td>7.0</td>\n",
       "      <td>NaN</td>\n",
       "      <td>http://www.redfin.com/CA/Canoga-Park/20541-Har...</td>\n",
       "      <td>34.197026</td>\n",
       "      <td>-118.581189</td>\n",
       "    </tr>\n",
       "    <tr>\n",
       "      <th>3</th>\n",
       "      <td>June-14-2021</td>\n",
       "      <td>18043 Sunburst St</td>\n",
       "      <td>91325</td>\n",
       "      <td>1300000</td>\n",
       "      <td>4</td>\n",
       "      <td>2809</td>\n",
       "      <td>1957</td>\n",
       "      <td>74.0</td>\n",
       "      <td>NaN</td>\n",
       "      <td>http://www.redfin.com/CA/Northridge/18043-Sunb...</td>\n",
       "      <td>34.234288</td>\n",
       "      <td>-118.526605</td>\n",
       "    </tr>\n",
       "    <tr>\n",
       "      <th>4</th>\n",
       "      <td>June-1-2021</td>\n",
       "      <td>19508 Leadwell St</td>\n",
       "      <td>91335</td>\n",
       "      <td>635000</td>\n",
       "      <td>3</td>\n",
       "      <td>1097</td>\n",
       "      <td>1947</td>\n",
       "      <td>87.0</td>\n",
       "      <td>NaN</td>\n",
       "      <td>http://www.redfin.com/CA/Reseda/19508-Leadwell...</td>\n",
       "      <td>34.203339</td>\n",
       "      <td>-118.558299</td>\n",
       "    </tr>\n",
       "  </tbody>\n",
       "</table>\n",
       "</div>"
      ],
      "text/plain": [
       "        SOLD DATE            ADDRESS  zipcode  sold_price  beds  hm_sqft  \\\n",
       "0    July-22-2021     7937 N Keer Dr    91335      850000     5     2141   \n",
       "1    June-15-2021     7417 Delco Ave    91306      949000     5     2417   \n",
       "2  August-20-2021      20541 Hart St    91306      730000     3     1212   \n",
       "3    June-14-2021  18043 Sunburst St    91325     1300000     4     2809   \n",
       "4     June-1-2021  19508 Leadwell St    91335      635000     3     1097   \n",
       "\n",
       "   yr_built  DAYS ON MARKET  HOA/MONTH  \\\n",
       "0      2016            36.0       41.0   \n",
       "1      1979            73.0        NaN   \n",
       "2      1954             7.0        NaN   \n",
       "3      1957            74.0        NaN   \n",
       "4      1947            87.0        NaN   \n",
       "\n",
       "  URL (SEE http://www.redfin.com/buy-a-home/comparative-market-analysis FOR INFO ON PRICING)  \\\n",
       "0  http://www.redfin.com/CA/Reseda/7937-N-Keer-Dr...                                           \n",
       "1  http://www.redfin.com/CA/Canoga-Park/7417-Delc...                                           \n",
       "2  http://www.redfin.com/CA/Canoga-Park/20541-Har...                                           \n",
       "3  http://www.redfin.com/CA/Northridge/18043-Sunb...                                           \n",
       "4  http://www.redfin.com/CA/Reseda/19508-Leadwell...                                           \n",
       "\n",
       "    LATITUDE   LONGITUDE  \n",
       "0  34.215045 -118.535042  \n",
       "1  34.205416 -118.578453  \n",
       "2  34.197026 -118.581189  \n",
       "3  34.234288 -118.526605  \n",
       "4  34.203339 -118.558299  "
      ]
     },
     "execution_count": 142,
     "metadata": {},
     "output_type": "execute_result"
    }
   ],
   "source": [
    "# Rename the merge columns of sup to make life easier (won't merge on 'BATHS' since lazy realtors\n",
    "#    sometimes round the fractions to whole numbers)\n",
    "sup.rename({'ZIP OR POSTAL CODE': 'zipcode',\n",
    "            'PRICE': 'sold_price',\n",
    "            'BEDS': 'beds',\n",
    "            'SQUARE FEET': 'hm_sqft',\n",
    "            'YEAR BUILT': 'yr_built'}, axis=1, inplace=True)\n",
    "sup.head()"
   ]
  },
  {
   "cell_type": "code",
   "execution_count": 143,
   "id": "fc75ed9e",
   "metadata": {},
   "outputs": [
    {
     "name": "stdout",
     "output_type": "stream",
     "text": [
      "(1500, 12)\n",
      "(1394, 12)\n"
     ]
    }
   ],
   "source": [
    "# Drop duplicates\n",
    "print(sup.shape)\n",
    "sup = sup.drop_duplicates(subset=['zipcode', 'sold_price', 'beds', 'hm_sqft', 'yr_built'])\n",
    "print(sup.shape)"
   ]
  },
  {
   "cell_type": "code",
   "execution_count": 144,
   "id": "f6bb05d2",
   "metadata": {},
   "outputs": [],
   "source": [
    "merged = df.merge(sup, \n",
    "                  how='left',\n",
    "                  on=['zipcode', 'sold_price', 'beds', 'hm_sqft', 'yr_built'])"
   ]
  },
  {
   "cell_type": "code",
   "execution_count": 145,
   "id": "06d3b581",
   "metadata": {},
   "outputs": [
    {
     "data": {
      "text/plain": [
       "(1011, 18)"
      ]
     },
     "execution_count": 145,
     "metadata": {},
     "output_type": "execute_result"
    }
   ],
   "source": [
    "merged.drop_duplicates().shape"
   ]
  },
  {
   "cell_type": "code",
   "execution_count": 147,
   "id": "d688644f",
   "metadata": {},
   "outputs": [
    {
     "data": {
      "text/plain": [
       "(1011, 11)"
      ]
     },
     "execution_count": 147,
     "metadata": {},
     "output_type": "execute_result"
    }
   ],
   "source": [
    "df.shape"
   ]
  },
  {
   "cell_type": "markdown",
   "id": "ba73666d",
   "metadata": {},
   "source": [
    "### Most rows have 'HOA/MONTH' set to NaN (i.e. no HOA applies) - let's change that to 0"
   ]
  },
  {
   "cell_type": "code",
   "execution_count": 148,
   "id": "d3e4be9b",
   "metadata": {
    "scrolled": false
   },
   "outputs": [],
   "source": [
    "merged.loc[merged['HOA/MONTH'].isna(), 'HOA/MONTH'] = 0"
   ]
  },
  {
   "cell_type": "code",
   "execution_count": 149,
   "id": "16a87dc1",
   "metadata": {},
   "outputs": [
    {
     "data": {
      "text/html": [
       "<div>\n",
       "<style scoped>\n",
       "    .dataframe tbody tr th:only-of-type {\n",
       "        vertical-align: middle;\n",
       "    }\n",
       "\n",
       "    .dataframe tbody tr th {\n",
       "        vertical-align: top;\n",
       "    }\n",
       "\n",
       "    .dataframe thead th {\n",
       "        text-align: right;\n",
       "    }\n",
       "</style>\n",
       "<table border=\"1\" class=\"dataframe\">\n",
       "  <thead>\n",
       "    <tr style=\"text-align: right;\">\n",
       "      <th></th>\n",
       "      <th>sold_price</th>\n",
       "      <th>beds</th>\n",
       "      <th>baths</th>\n",
       "      <th>hm_sqft</th>\n",
       "      <th>lot_size</th>\n",
       "      <th>yr_built</th>\n",
       "      <th>zipcode</th>\n",
       "      <th>pool</th>\n",
       "      <th>garage</th>\n",
       "      <th>stories</th>\n",
       "      <th>schools</th>\n",
       "      <th>SOLD DATE</th>\n",
       "      <th>ADDRESS</th>\n",
       "      <th>DAYS ON MARKET</th>\n",
       "      <th>HOA/MONTH</th>\n",
       "      <th>URL (SEE http://www.redfin.com/buy-a-home/comparative-market-analysis FOR INFO ON PRICING)</th>\n",
       "      <th>LATITUDE</th>\n",
       "      <th>LONGITUDE</th>\n",
       "    </tr>\n",
       "  </thead>\n",
       "  <tbody>\n",
       "  </tbody>\n",
       "</table>\n",
       "</div>"
      ],
      "text/plain": [
       "Empty DataFrame\n",
       "Columns: [sold_price, beds, baths, hm_sqft, lot_size, yr_built, zipcode, pool, garage, stories, schools, SOLD DATE, ADDRESS, DAYS ON MARKET, HOA/MONTH, URL (SEE http://www.redfin.com/buy-a-home/comparative-market-analysis FOR INFO ON PRICING), LATITUDE, LONGITUDE]\n",
       "Index: []"
      ]
     },
     "execution_count": 149,
     "metadata": {},
     "output_type": "execute_result"
    }
   ],
   "source": [
    "# Make sure no NaNs\n",
    "\n",
    "merged[merged.isna().any(axis=1)]"
   ]
  },
  {
   "cell_type": "code",
   "execution_count": 150,
   "id": "4645492b",
   "metadata": {},
   "outputs": [
    {
     "name": "stdout",
     "output_type": "stream",
     "text": [
      "(1011, 18)\n",
      "(1011, 18)\n"
     ]
    }
   ],
   "source": [
    "# Also make sure no duplicates and that indices are contiguous\n",
    "\n",
    "print(merged.shape)\n",
    "merged = merged.drop_duplicates()\n",
    "merged.reset_index(drop=True, inplace=True)\n",
    "print(merged.shape)"
   ]
  },
  {
   "cell_type": "code",
   "execution_count": 151,
   "id": "aeea2faf",
   "metadata": {},
   "outputs": [],
   "source": [
    "# Rename some cols for consistency\n",
    "\n",
    "merged.rename({'SOLD DATE': 'sold_date',\n",
    "               'DAYS ON MARKET': 'days_on_mkt',\n",
    "               'HOA/MONTH': 'hoa',\n",
    "               'LATITUDE': 'lat',\n",
    "               'LONGITUDE': 'lon'},\n",
    "               axis=1,\n",
    "               inplace=True)"
   ]
  },
  {
   "cell_type": "code",
   "execution_count": 152,
   "id": "957af54c",
   "metadata": {},
   "outputs": [],
   "source": [
    "merged.rename(\n",
    "    columns={\n",
    "        'URL (SEE http://www.redfin.com/buy-a-home/comparative-market-analysis FOR INFO ON PRICING)': 'url'},\n",
    "    inplace=True)"
   ]
  },
  {
   "cell_type": "code",
   "execution_count": 153,
   "id": "07dc4a0f",
   "metadata": {},
   "outputs": [],
   "source": [
    "merged.columns = [col.lower() for col in merged.columns]"
   ]
  },
  {
   "cell_type": "code",
   "execution_count": 154,
   "id": "84c4dd0e",
   "metadata": {},
   "outputs": [],
   "source": [
    "merged['pool'] = merged['pool'].astype('int')\n",
    "merged['garage'] = merged['garage'].astype('int')\n",
    "merged['days_on_mkt'] = merged['days_on_mkt'].astype('int')\n",
    "merged['hoa'] = merged['hoa'].astype('int')"
   ]
  },
  {
   "cell_type": "code",
   "execution_count": 155,
   "id": "ae03d898",
   "metadata": {},
   "outputs": [
    {
     "name": "stdout",
     "output_type": "stream",
     "text": [
      "<class 'pandas.core.frame.DataFrame'>\n",
      "RangeIndex: 1011 entries, 0 to 1010\n",
      "Data columns (total 18 columns):\n",
      " #   Column       Non-Null Count  Dtype  \n",
      "---  ------       --------------  -----  \n",
      " 0   sold_price   1011 non-null   int64  \n",
      " 1   beds         1011 non-null   int64  \n",
      " 2   baths        1011 non-null   float64\n",
      " 3   hm_sqft      1011 non-null   int64  \n",
      " 4   lot_size     1011 non-null   int64  \n",
      " 5   yr_built     1011 non-null   int64  \n",
      " 6   zipcode      1011 non-null   int64  \n",
      " 7   pool         1011 non-null   int64  \n",
      " 8   garage       1011 non-null   int64  \n",
      " 9   stories      1011 non-null   int64  \n",
      " 10  schools      1011 non-null   float64\n",
      " 11  sold_date    1011 non-null   object \n",
      " 12  address      1011 non-null   object \n",
      " 13  days_on_mkt  1011 non-null   int64  \n",
      " 14  hoa          1011 non-null   int64  \n",
      " 15  url          1011 non-null   object \n",
      " 16  lat          1011 non-null   float64\n",
      " 17  lon          1011 non-null   float64\n",
      "dtypes: float64(4), int64(11), object(3)\n",
      "memory usage: 142.3+ KB\n"
     ]
    }
   ],
   "source": [
    "merged.info()"
   ]
  },
  {
   "cell_type": "markdown",
   "id": "839c0501",
   "metadata": {},
   "source": [
    "### Write this dataframe to csv"
   ]
  },
  {
   "cell_type": "code",
   "execution_count": 156,
   "id": "9d1f27ee",
   "metadata": {},
   "outputs": [],
   "source": [
    "merged.to_csv('home_sales_dataset.csv', index=False)"
   ]
  },
  {
   "cell_type": "code",
   "execution_count": null,
   "id": "8f4874c9",
   "metadata": {},
   "outputs": [],
   "source": []
  }
 ],
 "metadata": {
  "kernelspec": {
   "display_name": "Python 3 (ipykernel)",
   "language": "python",
   "name": "python3"
  },
  "language_info": {
   "codemirror_mode": {
    "name": "ipython",
    "version": 3
   },
   "file_extension": ".py",
   "mimetype": "text/x-python",
   "name": "python",
   "nbconvert_exporter": "python",
   "pygments_lexer": "ipython3",
   "version": "3.8.10"
  }
 },
 "nbformat": 4,
 "nbformat_minor": 5
}
